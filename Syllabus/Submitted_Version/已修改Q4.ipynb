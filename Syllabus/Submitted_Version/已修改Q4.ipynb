{
 "cells": [
  {
   "cell_type": "markdown",
   "id": "1b684459",
   "metadata": {},
   "source": [
    "Group Member: Francis Ding, Jiaren Pan, Han Qin."
   ]
  },
  {
   "cell_type": "markdown",
   "id": "aa1b1ef2",
   "metadata": {},
   "source": [
    "#Q1. \n",
    "\n",
    "\n",
    "    Read the data in your notebook and display the first 8 rows. How many columns and rows are there in this dataset? What are the column names?"
   ]
  },
  {
   "cell_type": "code",
   "execution_count": 1,
   "id": "3665e869",
   "metadata": {},
   "outputs": [],
   "source": [
    "import pandas as pd\n",
    "import numpy as np\n",
    "import matplotlib.pyplot as plt\n",
    "import plotly.graph_objects as go\n",
    "\n",
    "df = pd.read_csv('nobel.csv')"
   ]
  },
  {
   "cell_type": "code",
   "execution_count": 2,
   "id": "9db8e0d8",
   "metadata": {},
   "outputs": [
    {
     "data": {
      "text/html": [
       "<div>\n",
       "<style scoped>\n",
       "    .dataframe tbody tr th:only-of-type {\n",
       "        vertical-align: middle;\n",
       "    }\n",
       "\n",
       "    .dataframe tbody tr th {\n",
       "        vertical-align: top;\n",
       "    }\n",
       "\n",
       "    .dataframe thead th {\n",
       "        text-align: right;\n",
       "    }\n",
       "</style>\n",
       "<table border=\"1\" class=\"dataframe\">\n",
       "  <thead>\n",
       "    <tr style=\"text-align: right;\">\n",
       "      <th></th>\n",
       "      <th>year</th>\n",
       "      <th>category</th>\n",
       "      <th>prize</th>\n",
       "      <th>motivation</th>\n",
       "      <th>price_share</th>\n",
       "      <th>laureate_id</th>\n",
       "      <th>laureate_type</th>\n",
       "      <th>full_name</th>\n",
       "      <th>birth_date</th>\n",
       "      <th>birth_city</th>\n",
       "      <th>birth_country</th>\n",
       "      <th>gender</th>\n",
       "      <th>organization_name</th>\n",
       "      <th>organization_city</th>\n",
       "      <th>organization_country</th>\n",
       "      <th>death_date</th>\n",
       "      <th>death_city</th>\n",
       "      <th>death_country</th>\n",
       "    </tr>\n",
       "  </thead>\n",
       "  <tbody>\n",
       "    <tr>\n",
       "      <th>0</th>\n",
       "      <td>1901</td>\n",
       "      <td>Chemistry</td>\n",
       "      <td>The Nobel Prize in Chemistry</td>\n",
       "      <td>in recognition of the extraordinary services h...</td>\n",
       "      <td>1</td>\n",
       "      <td>160</td>\n",
       "      <td>Individual</td>\n",
       "      <td>Jacobus Henricus van 't Hoff</td>\n",
       "      <td>1852-08-30</td>\n",
       "      <td>Rotterdam</td>\n",
       "      <td>the Netherlands</td>\n",
       "      <td>male</td>\n",
       "      <td>Berlin University</td>\n",
       "      <td>Berlin</td>\n",
       "      <td>Germany</td>\n",
       "      <td>1911-03-01</td>\n",
       "      <td>Berlin</td>\n",
       "      <td>Germany</td>\n",
       "    </tr>\n",
       "    <tr>\n",
       "      <th>1</th>\n",
       "      <td>1901</td>\n",
       "      <td>Literature</td>\n",
       "      <td>The Nobel Prize in Literature</td>\n",
       "      <td>in special recognition of his poetic compositi...</td>\n",
       "      <td>1</td>\n",
       "      <td>569</td>\n",
       "      <td>Individual</td>\n",
       "      <td>Sully Prudhomme</td>\n",
       "      <td>1839-03-16</td>\n",
       "      <td>Paris</td>\n",
       "      <td>France</td>\n",
       "      <td>male</td>\n",
       "      <td>NaN</td>\n",
       "      <td>NaN</td>\n",
       "      <td>NaN</td>\n",
       "      <td>1907-09-07</td>\n",
       "      <td>Châtenay</td>\n",
       "      <td>France</td>\n",
       "    </tr>\n",
       "    <tr>\n",
       "      <th>2</th>\n",
       "      <td>1901</td>\n",
       "      <td>Peace</td>\n",
       "      <td>The Nobel Peace Prize</td>\n",
       "      <td>for his lifelong work for international peace ...</td>\n",
       "      <td>1/2</td>\n",
       "      <td>463</td>\n",
       "      <td>Individual</td>\n",
       "      <td>Frédéric Passy</td>\n",
       "      <td>1822-05-20</td>\n",
       "      <td>Paris</td>\n",
       "      <td>France</td>\n",
       "      <td>male</td>\n",
       "      <td>NaN</td>\n",
       "      <td>NaN</td>\n",
       "      <td>NaN</td>\n",
       "      <td>1912-06-12</td>\n",
       "      <td>Paris</td>\n",
       "      <td>France</td>\n",
       "    </tr>\n",
       "    <tr>\n",
       "      <th>3</th>\n",
       "      <td>1901</td>\n",
       "      <td>Peace</td>\n",
       "      <td>The Nobel Peace Prize</td>\n",
       "      <td>for his humanitarian efforts to help wounded s...</td>\n",
       "      <td>1/2</td>\n",
       "      <td>462</td>\n",
       "      <td>Individual</td>\n",
       "      <td>Jean Henry Dunant</td>\n",
       "      <td>1828-05-08</td>\n",
       "      <td>Geneva</td>\n",
       "      <td>Switzerland</td>\n",
       "      <td>male</td>\n",
       "      <td>NaN</td>\n",
       "      <td>NaN</td>\n",
       "      <td>NaN</td>\n",
       "      <td>1910-10-30</td>\n",
       "      <td>Heiden</td>\n",
       "      <td>Switzerland</td>\n",
       "    </tr>\n",
       "    <tr>\n",
       "      <th>4</th>\n",
       "      <td>1901</td>\n",
       "      <td>Physics</td>\n",
       "      <td>The Nobel Prize in Physics</td>\n",
       "      <td>in recognition of the extraordinary services h...</td>\n",
       "      <td>1</td>\n",
       "      <td>1</td>\n",
       "      <td>Individual</td>\n",
       "      <td>Wilhelm Conrad Röntgen</td>\n",
       "      <td>1845-03-27</td>\n",
       "      <td>Lennep</td>\n",
       "      <td>Prussia</td>\n",
       "      <td>male</td>\n",
       "      <td>Munich University</td>\n",
       "      <td>Munich</td>\n",
       "      <td>Germany</td>\n",
       "      <td>1923-02-10</td>\n",
       "      <td>Munich</td>\n",
       "      <td>Germany</td>\n",
       "    </tr>\n",
       "    <tr>\n",
       "      <th>5</th>\n",
       "      <td>1901</td>\n",
       "      <td>Physiology or Medicine</td>\n",
       "      <td>The Nobel Prize in Physiology or Medicine</td>\n",
       "      <td>for his work on serum therapy, especially its ...</td>\n",
       "      <td>1</td>\n",
       "      <td>293</td>\n",
       "      <td>Individual</td>\n",
       "      <td>Emil Adolf von Behring</td>\n",
       "      <td>1854-03-15</td>\n",
       "      <td>Hansdorf</td>\n",
       "      <td>Prussia</td>\n",
       "      <td>male</td>\n",
       "      <td>Marburg University</td>\n",
       "      <td>Marburg</td>\n",
       "      <td>Germany</td>\n",
       "      <td>1917-03-31</td>\n",
       "      <td>Marburg</td>\n",
       "      <td>Germany</td>\n",
       "    </tr>\n",
       "    <tr>\n",
       "      <th>6</th>\n",
       "      <td>1902</td>\n",
       "      <td>Chemistry</td>\n",
       "      <td>The Nobel Prize in Chemistry</td>\n",
       "      <td>in recognition of the extraordinary services h...</td>\n",
       "      <td>1</td>\n",
       "      <td>161</td>\n",
       "      <td>Individual</td>\n",
       "      <td>Hermann Emil Fischer</td>\n",
       "      <td>1852-10-09</td>\n",
       "      <td>Euskirchen</td>\n",
       "      <td>Prussia</td>\n",
       "      <td>male</td>\n",
       "      <td>Berlin University</td>\n",
       "      <td>Berlin</td>\n",
       "      <td>Germany</td>\n",
       "      <td>1919-07-15</td>\n",
       "      <td>Berlin</td>\n",
       "      <td>Germany</td>\n",
       "    </tr>\n",
       "    <tr>\n",
       "      <th>7</th>\n",
       "      <td>1902</td>\n",
       "      <td>Literature</td>\n",
       "      <td>The Nobel Prize in Literature</td>\n",
       "      <td>the greatest living master of the art of histo...</td>\n",
       "      <td>1</td>\n",
       "      <td>571</td>\n",
       "      <td>Individual</td>\n",
       "      <td>Christian Matthias Theodor Mommsen</td>\n",
       "      <td>1817-11-30</td>\n",
       "      <td>Garding</td>\n",
       "      <td>Schleswig</td>\n",
       "      <td>male</td>\n",
       "      <td>NaN</td>\n",
       "      <td>NaN</td>\n",
       "      <td>NaN</td>\n",
       "      <td>1903-11-01</td>\n",
       "      <td>Charlottenburg</td>\n",
       "      <td>Germany</td>\n",
       "    </tr>\n",
       "  </tbody>\n",
       "</table>\n",
       "</div>"
      ],
      "text/plain": [
       "   year                category                                      prize  \\\n",
       "0  1901               Chemistry               The Nobel Prize in Chemistry   \n",
       "1  1901              Literature              The Nobel Prize in Literature   \n",
       "2  1901                   Peace                      The Nobel Peace Prize   \n",
       "3  1901                   Peace                      The Nobel Peace Prize   \n",
       "4  1901                 Physics                 The Nobel Prize in Physics   \n",
       "5  1901  Physiology or Medicine  The Nobel Prize in Physiology or Medicine   \n",
       "6  1902               Chemistry               The Nobel Prize in Chemistry   \n",
       "7  1902              Literature              The Nobel Prize in Literature   \n",
       "\n",
       "                                          motivation price_share  laureate_id  \\\n",
       "0  in recognition of the extraordinary services h...           1          160   \n",
       "1  in special recognition of his poetic compositi...           1          569   \n",
       "2  for his lifelong work for international peace ...         1/2          463   \n",
       "3  for his humanitarian efforts to help wounded s...         1/2          462   \n",
       "4  in recognition of the extraordinary services h...           1            1   \n",
       "5  for his work on serum therapy, especially its ...           1          293   \n",
       "6  in recognition of the extraordinary services h...           1          161   \n",
       "7  the greatest living master of the art of histo...           1          571   \n",
       "\n",
       "  laureate_type                           full_name  birth_date  birth_city  \\\n",
       "0    Individual        Jacobus Henricus van 't Hoff  1852-08-30   Rotterdam   \n",
       "1    Individual                     Sully Prudhomme  1839-03-16       Paris   \n",
       "2    Individual                      Frédéric Passy  1822-05-20       Paris   \n",
       "3    Individual                   Jean Henry Dunant  1828-05-08      Geneva   \n",
       "4    Individual              Wilhelm Conrad Röntgen  1845-03-27      Lennep   \n",
       "5    Individual              Emil Adolf von Behring  1854-03-15    Hansdorf   \n",
       "6    Individual                Hermann Emil Fischer  1852-10-09  Euskirchen   \n",
       "7    Individual  Christian Matthias Theodor Mommsen  1817-11-30     Garding   \n",
       "\n",
       "     birth_country gender   organization_name organization_city  \\\n",
       "0  the Netherlands   male   Berlin University            Berlin   \n",
       "1           France   male                 NaN               NaN   \n",
       "2           France   male                 NaN               NaN   \n",
       "3      Switzerland   male                 NaN               NaN   \n",
       "4          Prussia   male   Munich University            Munich   \n",
       "5          Prussia   male  Marburg University           Marburg   \n",
       "6          Prussia   male   Berlin University            Berlin   \n",
       "7        Schleswig   male                 NaN               NaN   \n",
       "\n",
       "  organization_country  death_date      death_city death_country  \n",
       "0              Germany  1911-03-01          Berlin       Germany  \n",
       "1                  NaN  1907-09-07        Châtenay        France  \n",
       "2                  NaN  1912-06-12           Paris        France  \n",
       "3                  NaN  1910-10-30          Heiden   Switzerland  \n",
       "4              Germany  1923-02-10          Munich       Germany  \n",
       "5              Germany  1917-03-31         Marburg       Germany  \n",
       "6              Germany  1919-07-15          Berlin       Germany  \n",
       "7                  NaN  1903-11-01  Charlottenburg       Germany  "
      ]
     },
     "execution_count": 2,
     "metadata": {},
     "output_type": "execute_result"
    }
   ],
   "source": [
    "df.iloc[:8]"
   ]
  },
  {
   "cell_type": "markdown",
   "id": "cee0c526",
   "metadata": {},
   "source": [
    "#Analysis. \n",
    "    \n",
    "    \n",
    "            Though we only display 8 rows in this page using df.loc(:8), the dataset we're working on have a total rows of 989, and 18 columns. The columns are based on a variety of components, these are \"year, category, prize, motivation, price_share, laureate_id, laureate_type, full_name, birth_date, birth_city, birth_country, gender, organization_name, organization_city, organization_country, death_date, death_city, death_country\"."
   ]
  },
  {
   "cell_type": "markdown",
   "id": "afb0ea6c",
   "metadata": {},
   "source": [
    "#Q2. \n",
    "\n",
    "    All of the first 8 winners were from Europe. But that was back in 1901. Looking at all winners in this data, which gender and which country is the most commonly represented? (For country, we will use the birth_country of the winner.)"
   ]
  },
  {
   "cell_type": "code",
   "execution_count": 3,
   "id": "c637a2c3",
   "metadata": {},
   "outputs": [
    {
     "data": {
      "text/plain": [
       "birth_country\n",
       "USA                        296\n",
       "United Kingdom              92\n",
       "Germany                     80\n",
       "France                      58\n",
       "Sweden                      30\n",
       "                          ... \n",
       "Crete                        1\n",
       "Pakistan                     1\n",
       "German-occupied Poland       1\n",
       "Peru                         1\n",
       "Java, Dutch East Indies      1\n",
       "Name: full_name, Length: 99, dtype: int64"
      ]
     },
     "execution_count": 3,
     "metadata": {},
     "output_type": "execute_result"
    }
   ],
   "source": [
    "df.groupby('birth_country')['full_name'].count().sort_values(ascending=False)"
   ]
  },
  {
   "cell_type": "code",
   "execution_count": 4,
   "id": "9612882e",
   "metadata": {},
   "outputs": [
    {
     "data": {
      "text/plain": [
       "gender\n",
       "male      898\n",
       "female     61\n",
       "Name: full_name, dtype: int64"
      ]
     },
     "execution_count": 4,
     "metadata": {},
     "output_type": "execute_result"
    }
   ],
   "source": [
    "df.groupby('gender')['full_name'].count().sort_values(ascending=False)"
   ]
  },
  {
   "cell_type": "markdown",
   "id": "789f6111",
   "metadata": {},
   "source": [
    "#Analysis. \n",
    "\n",
    "#From the data manipulated and grouped by Pandas,we found out that the country that has the Top Winners is United States, and the gender that has the most Winners is male.\n",
    "\n",
    "\n",
    "\n",
    "            "
   ]
  },
  {
   "cell_type": "code",
   "execution_count": null,
   "id": "6c196e3f",
   "metadata": {},
   "outputs": [],
   "source": []
  },
  {
   "cell_type": "markdown",
   "id": "a1068e80",
   "metadata": {},
   "source": [
    "#Q3. \n",
    "\n",
    "        For the dominant country that you found in question 2, calculate the proportions of winners from that country in each decade. Make some plots to visualize your results. In which decade did the proportion reach the highest?"
   ]
  },
  {
   "cell_type": "code",
   "execution_count": 5,
   "id": "3f0a08e6",
   "metadata": {},
   "outputs": [],
   "source": [
    "## we wanted to make grouping easier, thus I'm making a decades tag to each winner by using the pandas datetime module.\n",
    "## Otherwise, we'll have to grab each data and slice it as a representative of 10 and assign it back using tags.\n",
    "## New solution: \n",
    "## 1. I used select index solution that arrange the steps in 10.\n",
    "## 2. I've converted df['year'] into str first and then to datetime datatype because pandas can't convert dftype np.int64\n",
    "## directly to datetime object.\n",
    "## 3. I've setted column date(datetime dtype) as the index, and trace it using row expressions with the comparison of int values.\n",
    "\n",
    "df['decades'] = (df['year']// 10)* 10\n",
    "dfCounts = df.groupby(['decades'])['prize'].count().reset_index()\n",
    "dfUSA = df[df['birth_country'] == 'USA']\n",
    "countUSA = dfUSA.groupby(['decades'])['prize'].count().reset_index()\n",
    "countUSA['portion'] = (countUSA['prize'] / dfCounts['prize'] *100).round(2)"
   ]
  },
  {
   "cell_type": "code",
   "execution_count": 6,
   "id": "e0041f23",
   "metadata": {},
   "outputs": [
    {
     "data": {
      "image/png": "[encoded data removed]",
      "text/plain": [
       "<Figure size 1500x600 with 1 Axes>"
      ]
     },
     "metadata": {},
     "output_type": "display_data"
    }
   ],
   "source": [
    "x = countUSA['decades']\n",
    "y = countUSA['portion']\n",
    "\n",
    "plt.rcParams['axes.facecolor'] = '#FFFAF0'\n",
    "plt.figure(figsize=(15, 6))\n",
    "## a bunch of configuration for y-axis ##\n",
    "plt.ylim(0,100)\n",
    "plt.ylabel('%', labelpad=20, rotation=0, ha='right')\n",
    "\n",
    "\n",
    "## a bunch o configuration for x-axis ##\n",
    "plt.xticks(x)\n",
    "plt.xlabel('Decades')\n",
    "## Placing the % sign.\n",
    "plt.gca().yaxis.set_label_coords(0, 1.02)\n",
    "\n",
    "## Placing the labels for each coordinates.\n",
    "for i in range(len(x)):\n",
    "    plt.annotate('{:.2f}%'.format(y[i]), xy=(x[i], y[i]), xytext=(x[i], y[i] + 0.05), ha='center', va='bottom')\n",
    "\n",
    "##Plotting.\n",
    "plt.grid()\n",
    "plt.plot(x, y, linestyle = 'dashed', color='red',)\n",
    "plt.title('Winners of Nobel in each Decade')\n",
    "plt.show()"
   ]
  },
  {
   "cell_type": "markdown",
   "id": "a378c815",
   "metadata": {},
   "source": [
    "#Analysis:\n",
    "                    \n",
    "               From the data extracted from scientist and by creating brand new dataframes and series, we've analyzed that in 2000, there's about almost half of amount of total Nobel prize winner is within the USA, 43.90%."
   ]
  },
  {
   "cell_type": "markdown",
   "id": "50a90500",
   "metadata": {},
   "source": [
    "#Q4.\n",
    "\n",
    "    Is there any gender imbalance in this data? How significant is that? Calculate the proportion of female laureates in each decade. Visualize your results and discuss."
   ]
  },
  {
   "cell_type": "code",
   "execution_count": 7,
   "id": "13e2e6e5",
   "metadata": {
    "scrolled": false
   },
   "outputs": [
    {
     "data": {
      "text/html": [
       "<div>\n",
       "<style scoped>\n",
       "    .dataframe tbody tr th:only-of-type {\n",
       "        vertical-align: middle;\n",
       "    }\n",
       "\n",
       "    .dataframe tbody tr th {\n",
       "        vertical-align: top;\n",
       "    }\n",
       "\n",
       "    .dataframe thead th {\n",
       "        text-align: right;\n",
       "    }\n",
       "</style>\n",
       "<table border=\"1\" class=\"dataframe\">\n",
       "  <thead>\n",
       "    <tr style=\"text-align: right;\">\n",
       "      <th></th>\n",
       "      <th>decades</th>\n",
       "      <th>prize</th>\n",
       "      <th>femalePortion</th>\n",
       "      <th>malePortion</th>\n",
       "    </tr>\n",
       "  </thead>\n",
       "  <tbody>\n",
       "    <tr>\n",
       "      <th>0</th>\n",
       "      <td>1900</td>\n",
       "      <td>3</td>\n",
       "      <td>5.357143</td>\n",
       "      <td>94.642857</td>\n",
       "    </tr>\n",
       "    <tr>\n",
       "      <th>1</th>\n",
       "      <td>1910</td>\n",
       "      <td>1</td>\n",
       "      <td>2.631579</td>\n",
       "      <td>97.368421</td>\n",
       "    </tr>\n",
       "    <tr>\n",
       "      <th>2</th>\n",
       "      <td>1920</td>\n",
       "      <td>2</td>\n",
       "      <td>3.703704</td>\n",
       "      <td>96.296296</td>\n",
       "    </tr>\n",
       "    <tr>\n",
       "      <th>3</th>\n",
       "      <td>1930</td>\n",
       "      <td>3</td>\n",
       "      <td>5.454545</td>\n",
       "      <td>94.545455</td>\n",
       "    </tr>\n",
       "    <tr>\n",
       "      <th>4</th>\n",
       "      <td>1940</td>\n",
       "      <td>3</td>\n",
       "      <td>7.500000</td>\n",
       "      <td>92.500000</td>\n",
       "    </tr>\n",
       "    <tr>\n",
       "      <th>5</th>\n",
       "      <td>1960</td>\n",
       "      <td>3</td>\n",
       "      <td>4.225352</td>\n",
       "      <td>100.000000</td>\n",
       "    </tr>\n",
       "    <tr>\n",
       "      <th>6</th>\n",
       "      <td>1970</td>\n",
       "      <td>4</td>\n",
       "      <td>5.333333</td>\n",
       "      <td>96.000000</td>\n",
       "    </tr>\n",
       "    <tr>\n",
       "      <th>7</th>\n",
       "      <td>1980</td>\n",
       "      <td>4</td>\n",
       "      <td>3.883495</td>\n",
       "      <td>96.116505</td>\n",
       "    </tr>\n",
       "    <tr>\n",
       "      <th>8</th>\n",
       "      <td>1990</td>\n",
       "      <td>7</td>\n",
       "      <td>7.446809</td>\n",
       "      <td>95.744681</td>\n",
       "    </tr>\n",
       "    <tr>\n",
       "      <th>9</th>\n",
       "      <td>2000</td>\n",
       "      <td>11</td>\n",
       "      <td>10.891089</td>\n",
       "      <td>93.069307</td>\n",
       "    </tr>\n",
       "    <tr>\n",
       "      <th>10</th>\n",
       "      <td>2010</td>\n",
       "      <td>13</td>\n",
       "      <td>10.924370</td>\n",
       "      <td>90.756303</td>\n",
       "    </tr>\n",
       "    <tr>\n",
       "      <th>11</th>\n",
       "      <td>2020</td>\n",
       "      <td>7</td>\n",
       "      <td>5.982906</td>\n",
       "      <td>88.888889</td>\n",
       "    </tr>\n",
       "  </tbody>\n",
       "</table>\n",
       "</div>"
      ],
      "text/plain": [
       "    decades  prize  femalePortion  malePortion\n",
       "0      1900      3       5.357143    94.642857\n",
       "1      1910      1       2.631579    97.368421\n",
       "2      1920      2       3.703704    96.296296\n",
       "3      1930      3       5.454545    94.545455\n",
       "4      1940      3       7.500000    92.500000\n",
       "5      1960      3       4.225352   100.000000\n",
       "6      1970      4       5.333333    96.000000\n",
       "7      1980      4       3.883495    96.116505\n",
       "8      1990      7       7.446809    95.744681\n",
       "9      2000     11      10.891089    93.069307\n",
       "10     2010     13      10.924370    90.756303\n",
       "11     2020      7       5.982906    88.888889"
      ]
     },
     "execution_count": 7,
     "metadata": {},
     "output_type": "execute_result"
    }
   ],
   "source": [
    "df4= df[df['laureate_type'] == 'Individual']\n",
    "# df4['decades'] = (dfIndividual['year']//10) *10 this got an un-related warning because I already have decades in df.\n",
    "countAll = df4.groupby('decades')['prize'].count().reset_index()\n",
    "\n",
    "dfMale = df4[df4['gender'] == 'male']\n",
    "dfFemale = df4[df4['gender'] == 'female']\n",
    "countFemale = dfFemale.groupby('decades')['prize'].count().reset_index()\n",
    "countFemale.fillna(0)\n",
    "countMale = dfMale.groupby('decades')['prize'].count().reset_index()\n",
    "countFemale['femalePortion'] = countFemale['prize'] / countAll['prize'] * 100\n",
    "countFemale['malePortion'] = countMale['prize'] / countAll['prize'] * 100\n",
    "countFemale"
   ]
  },
  {
   "cell_type": "code",
   "execution_count": 8,
   "id": "4321dcf3",
   "metadata": {},
   "outputs": [
    {
     "data": {
      "text/html": [
       "<div>\n",
       "<style scoped>\n",
       "    .dataframe tbody tr th:only-of-type {\n",
       "        vertical-align: middle;\n",
       "    }\n",
       "\n",
       "    .dataframe tbody tr th {\n",
       "        vertical-align: top;\n",
       "    }\n",
       "\n",
       "    .dataframe thead th {\n",
       "        text-align: right;\n",
       "    }\n",
       "</style>\n",
       "<table border=\"1\" class=\"dataframe\">\n",
       "  <thead>\n",
       "    <tr style=\"text-align: right;\">\n",
       "      <th></th>\n",
       "      <th>decades</th>\n",
       "      <th>prize</th>\n",
       "      <th>malePortion</th>\n",
       "      <th>femalePortion</th>\n",
       "    </tr>\n",
       "  </thead>\n",
       "  <tbody>\n",
       "    <tr>\n",
       "      <th>0</th>\n",
       "      <td>1900</td>\n",
       "      <td>53</td>\n",
       "      <td>94.642857</td>\n",
       "      <td>5.357143</td>\n",
       "    </tr>\n",
       "    <tr>\n",
       "      <th>1</th>\n",
       "      <td>1910</td>\n",
       "      <td>37</td>\n",
       "      <td>97.368421</td>\n",
       "      <td>2.631579</td>\n",
       "    </tr>\n",
       "    <tr>\n",
       "      <th>2</th>\n",
       "      <td>1920</td>\n",
       "      <td>52</td>\n",
       "      <td>96.296296</td>\n",
       "      <td>3.703704</td>\n",
       "    </tr>\n",
       "    <tr>\n",
       "      <th>3</th>\n",
       "      <td>1930</td>\n",
       "      <td>52</td>\n",
       "      <td>94.545455</td>\n",
       "      <td>5.454545</td>\n",
       "    </tr>\n",
       "    <tr>\n",
       "      <th>4</th>\n",
       "      <td>1940</td>\n",
       "      <td>37</td>\n",
       "      <td>92.500000</td>\n",
       "      <td>7.500000</td>\n",
       "    </tr>\n",
       "    <tr>\n",
       "      <th>5</th>\n",
       "      <td>1950</td>\n",
       "      <td>71</td>\n",
       "      <td>100.000000</td>\n",
       "      <td>0.000000</td>\n",
       "    </tr>\n",
       "    <tr>\n",
       "      <th>6</th>\n",
       "      <td>1960</td>\n",
       "      <td>72</td>\n",
       "      <td>96.000000</td>\n",
       "      <td>4.000000</td>\n",
       "    </tr>\n",
       "    <tr>\n",
       "      <th>7</th>\n",
       "      <td>1970</td>\n",
       "      <td>99</td>\n",
       "      <td>96.116505</td>\n",
       "      <td>3.883495</td>\n",
       "    </tr>\n",
       "    <tr>\n",
       "      <th>8</th>\n",
       "      <td>1980</td>\n",
       "      <td>90</td>\n",
       "      <td>95.744681</td>\n",
       "      <td>4.255319</td>\n",
       "    </tr>\n",
       "    <tr>\n",
       "      <th>9</th>\n",
       "      <td>1990</td>\n",
       "      <td>94</td>\n",
       "      <td>93.069307</td>\n",
       "      <td>6.930693</td>\n",
       "    </tr>\n",
       "    <tr>\n",
       "      <th>10</th>\n",
       "      <td>2000</td>\n",
       "      <td>108</td>\n",
       "      <td>90.756303</td>\n",
       "      <td>9.243697</td>\n",
       "    </tr>\n",
       "    <tr>\n",
       "      <th>11</th>\n",
       "      <td>2010</td>\n",
       "      <td>104</td>\n",
       "      <td>88.888889</td>\n",
       "      <td>11.111111</td>\n",
       "    </tr>\n",
       "    <tr>\n",
       "      <th>12</th>\n",
       "      <td>2020</td>\n",
       "      <td>29</td>\n",
       "      <td>80.555556</td>\n",
       "      <td>19.444444</td>\n",
       "    </tr>\n",
       "  </tbody>\n",
       "</table>\n",
       "</div>"
      ],
      "text/plain": [
       "    decades  prize  malePortion  femalePortion\n",
       "0      1900     53    94.642857       5.357143\n",
       "1      1910     37    97.368421       2.631579\n",
       "2      1920     52    96.296296       3.703704\n",
       "3      1930     52    94.545455       5.454545\n",
       "4      1940     37    92.500000       7.500000\n",
       "5      1950     71   100.000000       0.000000\n",
       "6      1960     72    96.000000       4.000000\n",
       "7      1970     99    96.116505       3.883495\n",
       "8      1980     90    95.744681       4.255319\n",
       "9      1990     94    93.069307       6.930693\n",
       "10     2000    108    90.756303       9.243697\n",
       "11     2010    104    88.888889      11.111111\n",
       "12     2020     29    80.555556      19.444444"
      ]
     },
     "execution_count": 8,
     "metadata": {},
     "output_type": "execute_result"
    }
   ],
   "source": [
    "df4= df[df['laureate_type'] == 'Individual']\n",
    "# df4['decades'] = (dfIndividual['year']//10) *10 this got an un-related warning because I already have decades in df.\n",
    "countAll = df4.groupby('decades')['prize'].count().reset_index()\n",
    "\n",
    "dfMale = df4[df4['gender'] == 'male']\n",
    "dfFemale = df4[df4['gender'] == 'female']\n",
    "countMale = dfMale.groupby('decades')['prize'].count().reset_index()\n",
    "countMale['malePortion'] = countMale['prize'] / countAll['prize'] * 100\n",
    "countMale['femalePortion'] = 100 - countMale['malePortion']\n",
    "countMale"
   ]
  },
  {
   "cell_type": "code",
   "execution_count": 9,
   "id": "ae6470f8",
   "metadata": {},
   "outputs": [
    {
     "data": {
      "text/html": [
       "<div>\n",
       "<style scoped>\n",
       "    .dataframe tbody tr th:only-of-type {\n",
       "        vertical-align: middle;\n",
       "    }\n",
       "\n",
       "    .dataframe tbody tr th {\n",
       "        vertical-align: top;\n",
       "    }\n",
       "\n",
       "    .dataframe thead th {\n",
       "        text-align: right;\n",
       "    }\n",
       "</style>\n",
       "<table border=\"1\" class=\"dataframe\">\n",
       "  <thead>\n",
       "    <tr style=\"text-align: right;\">\n",
       "      <th></th>\n",
       "      <th>decades</th>\n",
       "      <th>prize</th>\n",
       "    </tr>\n",
       "  </thead>\n",
       "  <tbody>\n",
       "    <tr>\n",
       "      <th>0</th>\n",
       "      <td>1900</td>\n",
       "      <td>56</td>\n",
       "    </tr>\n",
       "    <tr>\n",
       "      <th>1</th>\n",
       "      <td>1910</td>\n",
       "      <td>38</td>\n",
       "    </tr>\n",
       "    <tr>\n",
       "      <th>2</th>\n",
       "      <td>1920</td>\n",
       "      <td>54</td>\n",
       "    </tr>\n",
       "    <tr>\n",
       "      <th>3</th>\n",
       "      <td>1930</td>\n",
       "      <td>55</td>\n",
       "    </tr>\n",
       "    <tr>\n",
       "      <th>4</th>\n",
       "      <td>1940</td>\n",
       "      <td>40</td>\n",
       "    </tr>\n",
       "    <tr>\n",
       "      <th>5</th>\n",
       "      <td>1950</td>\n",
       "      <td>71</td>\n",
       "    </tr>\n",
       "    <tr>\n",
       "      <th>6</th>\n",
       "      <td>1960</td>\n",
       "      <td>75</td>\n",
       "    </tr>\n",
       "    <tr>\n",
       "      <th>7</th>\n",
       "      <td>1970</td>\n",
       "      <td>103</td>\n",
       "    </tr>\n",
       "    <tr>\n",
       "      <th>8</th>\n",
       "      <td>1980</td>\n",
       "      <td>94</td>\n",
       "    </tr>\n",
       "    <tr>\n",
       "      <th>9</th>\n",
       "      <td>1990</td>\n",
       "      <td>101</td>\n",
       "    </tr>\n",
       "    <tr>\n",
       "      <th>10</th>\n",
       "      <td>2000</td>\n",
       "      <td>119</td>\n",
       "    </tr>\n",
       "    <tr>\n",
       "      <th>11</th>\n",
       "      <td>2010</td>\n",
       "      <td>117</td>\n",
       "    </tr>\n",
       "    <tr>\n",
       "      <th>12</th>\n",
       "      <td>2020</td>\n",
       "      <td>36</td>\n",
       "    </tr>\n",
       "  </tbody>\n",
       "</table>\n",
       "</div>"
      ],
      "text/plain": [
       "    decades  prize\n",
       "0      1900     56\n",
       "1      1910     38\n",
       "2      1920     54\n",
       "3      1930     55\n",
       "4      1940     40\n",
       "5      1950     71\n",
       "6      1960     75\n",
       "7      1970    103\n",
       "8      1980     94\n",
       "9      1990    101\n",
       "10     2000    119\n",
       "11     2010    117\n",
       "12     2020     36"
      ]
     },
     "execution_count": 9,
     "metadata": {},
     "output_type": "execute_result"
    }
   ],
   "source": [
    "countAll"
   ]
  },
  {
   "cell_type": "code",
   "execution_count": 10,
   "id": "a6cf9552",
   "metadata": {},
   "outputs": [
    {
     "data": {
      "image/png": "[encoded data removed]",
      "text/plain": [
       "<Figure size 1500x600 with 1 Axes>"
      ]
     },
     "metadata": {},
     "output_type": "display_data"
    }
   ],
   "source": [
    "## Plotting Q4 using stacked opposition graph.\n",
    "plt.rcParams['axes.facecolor'] = '#FFFAF0'\n",
    "plt.figure(figsize=(15,6))\n",
    "plt.xticks(countMale['decades'])\n",
    "plt.ylim(0, 100)\n",
    "\n",
    "alpha1= 0.5\n",
    "alpha2= 1.0\n",
    "color1 = (186/255,85/255,211/255) #rgb color1: \n",
    "color2 = (255/255,105/255,180/255) #rgb color2: \n",
    "plt.bar(countMale['decades'], \n",
    "        countMale['malePortion'], \n",
    "        bottom=countMale['femalePortion'], \n",
    "        width=7, \n",
    "        color=color1 + (alpha1,),\n",
    "        edgecolor='black',\n",
    "        label='Male')\n",
    "plt.bar(countMale['decades'], \n",
    "        countMale['femalePortion'],\n",
    "        width=7,\n",
    "        color=color2 + (alpha2,),\n",
    "        edgecolor='black',\n",
    "        label='Female')\n",
    "\n",
    "\n",
    "plt.legend()\n",
    "plt.show()"
   ]
  },
  {
   "cell_type": "markdown",
   "id": "f803475a",
   "metadata": {},
   "source": [
    "#Analysis.\n",
    "\n",
    "            Is there any gender imbalance in this data? How significant is that? Calculate the proportion of female laureates in each decade. Visualize your results and discuss.\n",
    "            Yes, the gender imbalance of United State's Nobel Winners has been enormous since 1900. On average, over the year span of over 120 years, only 6% of the contributors are females in each decade, and about 94% among all candidates are male. We can observe from the graph that from 1900-1910, USA had a massive decay over women nobel winners, but it has been risen over the course of the next 4 decades til 1940, the portion of female norbel winners has reached new high. After that, the female portion decreased for a few decades and then hitting another new high in the 2000s, where is the highest among all decades, which is around 10.89% in all representing winners."
   ]
  },
  {
   "cell_type": "markdown",
   "id": "25842228",
   "metadata": {},
   "source": [
    "#5. For the gender imbalance that you found in question 4, is it better or worse within specific prize categories? Visualize your results for each category and discuss. Which of them has the largest gender imbalance? Which has shown some positive trend over the decades?"
   ]
  },
  {
   "cell_type": "code",
   "execution_count": 11,
   "id": "51842bf4",
   "metadata": {},
   "outputs": [
    {
     "ename": "NameError",
     "evalue": "name 'dfWomen' is not defined",
     "output_type": "error",
     "traceback": [
      "\u001b[0;31m---------------------------------------------------------------------------\u001b[0m",
      "\u001b[0;31mNameError\u001b[0m                                 Traceback (most recent call last)",
      "\u001b[0;32m/var/folders/0n/b7_s546n4mbfz8xmnlpd83t80000gn/T/ipykernel_10950/1422595423.py\u001b[0m in \u001b[0;36m<module>\u001b[0;34m\u001b[0m\n\u001b[0;32m----> 1\u001b[0;31m \u001b[0mdftotalw\u001b[0m \u001b[0;34m=\u001b[0m \u001b[0mdfWomen\u001b[0m\u001b[0;34m.\u001b[0m\u001b[0mgroupby\u001b[0m\u001b[0;34m(\u001b[0m\u001b[0;34m'category'\u001b[0m\u001b[0;34m)\u001b[0m\u001b[0;34m[\u001b[0m\u001b[0;34m'prize'\u001b[0m\u001b[0;34m]\u001b[0m\u001b[0;34m.\u001b[0m\u001b[0mcount\u001b[0m\u001b[0;34m(\u001b[0m\u001b[0;34m)\u001b[0m\u001b[0;34m.\u001b[0m\u001b[0mreset_index\u001b[0m\u001b[0;34m(\u001b[0m\u001b[0;34m)\u001b[0m\u001b[0;34m\u001b[0m\u001b[0;34m\u001b[0m\u001b[0m\n\u001b[0m\u001b[1;32m      2\u001b[0m \u001b[0mdftotal\u001b[0m \u001b[0;34m=\u001b[0m \u001b[0mdf4\u001b[0m\u001b[0;34m.\u001b[0m\u001b[0mgroupby\u001b[0m\u001b[0;34m(\u001b[0m \u001b[0;34m'category'\u001b[0m\u001b[0;34m)\u001b[0m\u001b[0;34m[\u001b[0m\u001b[0;34m'prize'\u001b[0m\u001b[0;34m]\u001b[0m\u001b[0;34m.\u001b[0m\u001b[0mcount\u001b[0m\u001b[0;34m(\u001b[0m\u001b[0;34m)\u001b[0m\u001b[0;34m.\u001b[0m\u001b[0mreset_index\u001b[0m\u001b[0;34m(\u001b[0m\u001b[0;34m)\u001b[0m\u001b[0;34m\u001b[0m\u001b[0;34m\u001b[0m\u001b[0m\n\u001b[1;32m      3\u001b[0m \u001b[0mdftotalw\u001b[0m\u001b[0;34m[\u001b[0m\u001b[0;34m'proportion(%)'\u001b[0m\u001b[0;34m]\u001b[0m \u001b[0;34m=\u001b[0m \u001b[0mdftotalw\u001b[0m\u001b[0;34m[\u001b[0m\u001b[0;34m'prize'\u001b[0m\u001b[0;34m]\u001b[0m\u001b[0;34m/\u001b[0m\u001b[0mdftotal\u001b[0m\u001b[0;34m[\u001b[0m\u001b[0;34m'prize'\u001b[0m\u001b[0;34m]\u001b[0m\u001b[0;34m*\u001b[0m\u001b[0;36m100\u001b[0m\u001b[0;34m\u001b[0m\u001b[0;34m\u001b[0m\u001b[0m\n\u001b[1;32m      4\u001b[0m \u001b[0mdftotalw\u001b[0m\u001b[0;34m\u001b[0m\u001b[0;34m\u001b[0m\u001b[0m\n",
      "\u001b[0;31mNameError\u001b[0m: name 'dfWomen' is not defined"
     ]
    }
   ],
   "source": [
    "dftotalw = dfWomen.groupby('category')['prize'].count().reset_index()\n",
    "dftotal = df4.groupby( 'category')['prize'].count().reset_index()\n",
    "dftotalw['proportion(%)'] = dftotalw['prize']/dftotal['prize']*100\n",
    "dftotalw"
   ]
  },
  {
   "cell_type": "code",
   "execution_count": null,
   "id": "0c598ef8",
   "metadata": {},
   "outputs": [],
   "source": [
    "dfAll_Sum = df4.groupby(['decades', 'category'])['prize'].count().reset_index()\n",
    "dfAll_SumIndexed = dfAll_Sum.set_index(['decades'])\n",
    "#catList = ['Chemistry', 'Economic Sciences', 'Literature', 'Peace', 'Physics', 'Physiology or Medicine']\n",
    "dfWomen = df4[df4['gender'] == 'female']\n",
    "dfWomen_Sum = dfWomen.groupby(['decades', 'category'])['prize'].count().reset_index()\n",
    "## Plot all lines with subplots using different colors to represent the difference.\n",
    "\n",
    "\n",
    "all_Chem = dfAll_Sum[dfAll_Sum['category'] == 'Chemistry'].set_index(['decades'])\n",
    "women_Chem = dfWomen_Sum[dfWomen_Sum['category'] == 'Chemistry'].set_index(['decades'])\n",
    "women_Chem_prob = women_Chem['prize']/all_Chem['prize']\n",
    "women_Chem_prob = women_Chem_prob.fillna(0)\n",
    "\n",
    "\n",
    "\n",
    "all_Econ = dfAll_Sum[dfAll_Sum['category'] == 'Economic Sciences'].set_index(['decades'])\n",
    "all_Econ = all_Econ.merge(all_Chem, on='decades', how='outer').sort_values(by='decades')\n",
    "all_Econ['category_x'] = all_Econ['category_x'].fillna('Economic Sciences')\n",
    "all_Econ['prize_x'] = all_Econ['prize_x'].fillna(0)\n",
    "\n",
    "women_Econ = dfWomen_Sum[dfWomen_Sum['category'] == 'Economic Sciences'].set_index(['decades'])\n",
    "women_Econ_prob = women_Econ['prize']/all_Econ['prize_x']\n",
    "women_Econ_prob = women_Econ_prob.fillna(0)\n",
    "\n",
    "all_Lit = dfAll_Sum[dfAll_Sum['category'] == 'Literature'].set_index(['decades'])\n",
    "women_Lit = dfWomen_Sum[dfWomen_Sum['category'] == 'Literature'].set_index(['decades'])\n",
    "women_Lit_prob = women_Lit['prize']/all_Lit['prize']\n",
    "women_Lit_prob = women_Lit_prob.fillna(0)\n",
    "\n",
    "all_Peace = dfAll_Sum[dfAll_Sum['category'] == 'Peace'].set_index(['decades'])\n",
    "women_Peace = dfWomen_Sum[dfWomen_Sum['category'] == 'Peace'].set_index(['decades'])\n",
    "women_Peace_prob = women_Peace['prize']/all_Peace['prize']\n",
    "women_Peace_prob = women_Peace_prob.fillna(0)\n",
    "\n",
    "all_Physics = dfAll_Sum[dfAll_Sum['category'] == 'Physics'].set_index(['decades'])\n",
    "women_Physics = dfWomen_Sum[dfWomen_Sum['category'] == 'Physics'].set_index(['decades'])\n",
    "women_Physics_prob = women_Physics['prize']/all_Physics['prize']\n",
    "women_Physics_prob = women_Physics_prob.fillna(0)\n",
    "\n",
    "all_Med = dfAll_Sum[dfAll_Sum['category'] == 'Physiology or Medicine'].set_index(['decades'])\n",
    "women_Med = dfWomen_Sum[dfWomen_Sum['category'] == 'Physiology or Medicine'].set_index(['decades'])\n",
    "women_Med_prob = women_Med['prize']/all_Med['prize']\n",
    "women_Med_prob = women_Med_prob.fillna(0)"
   ]
  },
  {
   "cell_type": "code",
   "execution_count": null,
   "id": "2317de22",
   "metadata": {},
   "outputs": [],
   "source": [
    "x = all_Chem.index\n",
    "plt.figure(figsize= (15,6))\n",
    "plt.xticks(df4['decades'])\n",
    "plt.xlim(1900, 2020)\n",
    "# plt.ylim(0,100)\n",
    "plt.plot(x, women_Chem_prob, linestyle='dashed', color='c', label='chem')\n",
    "plt.plot(x, women_Econ_prob, linestyle='dashed', color='red', label='econ')\n",
    "plt.plot(x, women_Lit_prob, linestyle='dashed', color='grey', label='lit')\n",
    "plt.plot(x, women_Peace_prob, linestyle='dashed', color='yellow', label='peace')\n",
    "plt.plot(x, women_Physics_prob, linestyle='dashed', color='orange', label='physics')\n",
    "plt.plot(x, women_Med_prob, linestyle='dashed', color='green', label='med')\n",
    "\n",
    "plt.legend()\n",
    "plt.title('Female Winners % by Category')\n",
    "\n",
    "# Display the plot\n",
    "plt.grid()\n",
    "plt.show()"
   ]
  },
  {
   "cell_type": "code",
   "execution_count": null,
   "id": "985f6102",
   "metadata": {},
   "outputs": [],
   "source": []
  },
  {
   "cell_type": "markdown",
   "id": "c352cf19",
   "metadata": {},
   "source": [
    "#Q5 Analysis:\n",
    "\n",
    "               We find that the gender imbalance is particularly high in the physical and economic sciences categories, and to a lesser extent in the literature and peace categories. Since the 1980s, the Peace Prize, Literature Prize, and Chemistry Prize have shown positive trends, and the percentage of female winners has increased significantly.\n"
   ]
  },
  {
   "cell_type": "markdown",
   "id": "1c1268c3",
   "metadata": {},
   "source": [
    "#6. Are there any people who have won the Nobel Prize more than once? Who are they?"
   ]
  },
  {
   "cell_type": "code",
   "execution_count": null,
   "id": "148707c3",
   "metadata": {},
   "outputs": [],
   "source": [
    "dfPrizeCount = df4.groupby(['full_name'])['prize'].count().sort_values(ascending=False).reset_index()\n",
    "dfPrizeMultiple = dfPrizeCount[dfPrizeCount['prize'] > 1]\n",
    "dfPrizeMultiple"
   ]
  },
  {
   "cell_type": "markdown",
   "id": "36813b75",
   "metadata": {},
   "source": [
    "    Yes, there are a few people who has won the Nobel Prize more than once, they are Frederick Sanger, K. Barry Sharpless, Marie Curie, née Sklodowska, Linus Carl Pauling, and John Bardeen."
   ]
  },
  {
   "cell_type": "code",
   "execution_count": null,
   "id": "7175c4f7",
   "metadata": {},
   "outputs": [],
   "source": []
  },
  {
   "cell_type": "markdown",
   "id": "46c31228",
   "metadata": {},
   "source": [
    "#7. Who are the oldest and youngest people ever to have won a Nobel Prize? How old were the winners generally when they got the prize? Show the summary statistics, and plot the distribution of the age of winners."
   ]
  },
  {
   "cell_type": "code",
   "execution_count": null,
   "id": "9b9c95dd",
   "metadata": {},
   "outputs": [],
   "source": [
    "dfBirth = df4.groupby(['full_name','birth_date','year'])['prize'].count().reset_index()\n",
    "dfBirth['age'] = dfBirth['year'] - dfBirth['birth_date'].str[:4].astype(int)\n",
    "dfBirth = dfBirth.sort_values('birth_date')\n",
    "dfBirth"
   ]
  },
  {
   "cell_type": "code",
   "execution_count": null,
   "id": "6495d55e",
   "metadata": {},
   "outputs": [],
   "source": [
    "dfBirth.describe()"
   ]
  },
  {
   "cell_type": "markdown",
   "id": "aebe7401",
   "metadata": {},
   "source": [
    "#Analysis. \n",
    "        \n",
    "        \n",
    "        From the dataframe above, we can observe that the oldest people who ever won a Nobel's prize was Christian Matthias Theodor Mommsen who was born in 1817, he was 86 when he got his prize in 1902, and the youngest people who ever won a Nobel's prize was Malala Yousafzai who was born in 1997, in which he was only 17 years old when he received the prize in 2014. The distributions shows that 25% of the people are below or equal to 51 years old, 50% are between 51-60 years old. 75% who are below 69 years old, and the rest are the ones that's below 97 years old."
   ]
  },
  {
   "cell_type": "code",
   "execution_count": null,
   "id": "114af5b2",
   "metadata": {},
   "outputs": [],
   "source": [
    "plt.hist(dfBirth['age'], bins=100, color='pink', edgecolor='black')\n",
    "plt.title('Age Distribution')\n",
    "plt.show()"
   ]
  },
  {
   "cell_type": "markdown",
   "id": "fce8b179",
   "metadata": {},
   "source": [
    "#8. For your results in question 7, does the average age of winners differ across each category? For each category, show the summary statistics and plot the distribution of the age of winners. Which categories have the largest and smallest average age of winners?\n",
    "\n",
    "\n",
    "#Anlysis: \n",
    "\n",
    "            From our results and observation from Q7 and the graph plotted below, we've found out that the average age of winners differs substantially ranging from 57.1-66.83 in age differences, the max difference is around 10 years, and the minimum difference is around 3 years across all categories. We've created and shown the summary for each category and have graphed their distribution for us to have a better understanding in detail that helps us to gain more insights to the age differences in subject's averages. From the analysis and plot, we found out the the category that has the largest average age is from Economical Sciences, and the least average is from Physics."
   ]
  },
  {
   "cell_type": "code",
   "execution_count": null,
   "id": "62e6eac0",
   "metadata": {},
   "outputs": [],
   "source": [
    "dfBirthCat = df4.groupby(['category','birth_date','year'])['prize'].count().reset_index()\n",
    "dfBirthCat['birth_date'] = pd.to_datetime(dfBirthCat['birth_date'], format='%d/%m/%Y', errors='coerce').fillna(\n",
    "    pd.to_datetime(dfBirthCat['birth_date'], format='%Y-%m-%d', errors='coerce'))\n",
    "dfBirthCat['birth_year'] = dfBirthCat['birth_date'].dt.year\n",
    "dfBirthCat['age'] = dfBirthCat['year'] - dfBirthCat['birth_year']"
   ]
  },
  {
   "cell_type": "code",
   "execution_count": null,
   "id": "f0c1b4cd",
   "metadata": {},
   "outputs": [],
   "source": [
    "## Deriving the numbers and averages we need.\n",
    "\n",
    "def create_average(catList, dfOrigin):\n",
    "    catContainer = []\n",
    "    for i in range(len(catList)):\n",
    "        dataFrame = dfOrigin[dfOrigin['category'] == catList[i]]\n",
    "        catContainer.append(dataFrame)\n",
    "    return catContainer\n",
    "\n",
    "catList = ['Chemistry', 'Economic Sciences', 'Literature', 'Peace', 'Physics', 'Physiology or Medicine']\n",
    "dfMainCat = create_average(catList, dfBirthCat)\n",
    "\n",
    "dfChem = dfMainCat[0]\n",
    "summaryChem = dfChem.describe()\n",
    "chem_average = summaryChem['age']['mean']\n",
    "\n",
    "dfEcon = dfMainCat[1]\n",
    "summaryEcon = dfEcon.describe()\n",
    "econ_average = summaryEcon['age']['mean']\n",
    "\n",
    "dfLiterature = dfMainCat[2]\n",
    "summaryLiterature = dfLiterature.describe()\n",
    "literature_average = summaryLiterature['age']['mean']\n",
    "\n",
    "dfPeace = dfMainCat[3]\n",
    "summaryPeace = dfPeace.describe()\n",
    "peace_average = summaryPeace['age']['mean']\n",
    "\n",
    "dfPhysics = dfMainCat[4]\n",
    "summaryPhysics = dfPhysics.describe()\n",
    "physics_average = summaryPhysics['age']['mean']\n",
    "\n",
    "dfMed = dfMainCat[5]\n",
    "summaryMed = dfMed.describe()\n",
    "med_average = summaryMed['age']['mean']\n",
    "\n",
    "avg_list = [chem_average, econ_average, literature_average, peace_average, physics_average, med_average]"
   ]
  },
  {
   "cell_type": "code",
   "execution_count": null,
   "id": "3d89fb6e",
   "metadata": {},
   "outputs": [],
   "source": [
    "## Plotting and Adjusting the Settings\n",
    "plt.figure(figsize=(15,6))\n",
    "plt.plot(catList, avg_list, label='Average Age Across Categories', linestyle = 'dotted', color='c')\n",
    "plt.grid()\n",
    "plt.title('Average Age All Categories')\n",
    "#Placing the coordinates.\n",
    "for i in range(len(catList)):\n",
    "    plt.annotate('{:.2f}'.format(avg_list[i]), xy=(catList[i], avg_list[i]), xytext=(catList[i], avg_list[i] + 0.05), ha='center', va='bottom')\n",
    "    \n",
    "\n",
    "plt.legend()\n",
    "plt.show()"
   ]
  },
  {
   "cell_type": "code",
   "execution_count": null,
   "id": "527be31f",
   "metadata": {},
   "outputs": [],
   "source": [
    "dfChem.describe()"
   ]
  },
  {
   "cell_type": "code",
   "execution_count": null,
   "id": "842f3d42",
   "metadata": {},
   "outputs": [],
   "source": [
    "plt.figure(figsize=(15,6))\n",
    "x = dfChem['age']\n",
    "plt.hist(x, bins=100, color='pink', edgecolor='black', label='Average Across Chem')\n",
    "plt.grid()\n",
    "    \n",
    "plt.title('Age Distribution Chem')\n",
    "plt.legend()\n",
    "plt.show()"
   ]
  },
  {
   "cell_type": "code",
   "execution_count": null,
   "id": "dd892814",
   "metadata": {},
   "outputs": [],
   "source": [
    "dfEcon.describe()"
   ]
  },
  {
   "cell_type": "code",
   "execution_count": null,
   "id": "b4d5be62",
   "metadata": {},
   "outputs": [],
   "source": [
    "plt.figure(figsize=(15,6))\n",
    "x = dfEcon['age']\n",
    "plt.hist(x, bins=100, color='yellow', edgecolor='black', label='Average Across Econ')\n",
    "plt.grid()\n",
    "    \n",
    "plt.title('Age Distribution Econ')\n",
    "plt.legend()\n",
    "plt.show()"
   ]
  },
  {
   "cell_type": "code",
   "execution_count": null,
   "id": "b5bf3dd2",
   "metadata": {},
   "outputs": [],
   "source": [
    "dfLiterature.describe()"
   ]
  },
  {
   "cell_type": "code",
   "execution_count": null,
   "id": "89f4d35c",
   "metadata": {},
   "outputs": [],
   "source": [
    "plt.figure(figsize=(15,6))\n",
    "x = dfLiterature['age']\n",
    "plt.hist(x, bins=100, color='c', edgecolor='black', label='Average Across Literature')\n",
    "plt.grid()\n",
    "    \n",
    "plt.title('Literature Distribution Age')\n",
    "plt.legend()\n",
    "plt.show()"
   ]
  },
  {
   "cell_type": "code",
   "execution_count": null,
   "id": "d68ab3b6",
   "metadata": {},
   "outputs": [],
   "source": [
    "dfPeace.describe()"
   ]
  },
  {
   "cell_type": "code",
   "execution_count": null,
   "id": "e2f6b351",
   "metadata": {},
   "outputs": [],
   "source": [
    "plt.figure(figsize=(15,6))\n",
    "x = dfPeace['age']\n",
    "plt.hist(x, bins=100, color='c', edgecolor='black', label='Average Across Peace')\n",
    "plt.grid()\n",
    "    \n",
    "plt.title('Peace Distribution Age')\n",
    "plt.legend()\n",
    "plt.show()"
   ]
  },
  {
   "cell_type": "code",
   "execution_count": null,
   "id": "e0261c0a",
   "metadata": {},
   "outputs": [],
   "source": [
    "dfPhysics.describe()"
   ]
  },
  {
   "cell_type": "code",
   "execution_count": null,
   "id": "5cdf2c8f",
   "metadata": {},
   "outputs": [],
   "source": [
    "plt.figure(figsize=(15,6))\n",
    "x = dfPhysics['age']\n",
    "plt.hist(x, bins=100, color='y', edgecolor='black', label='Average Across Physics')\n",
    "plt.grid()\n",
    "    \n",
    "plt.title('Physics Distribution Age')\n",
    "plt.legend()\n",
    "plt.show()"
   ]
  },
  {
   "cell_type": "code",
   "execution_count": null,
   "id": "d80abdd6",
   "metadata": {},
   "outputs": [],
   "source": [
    "dfMed.describe()"
   ]
  },
  {
   "cell_type": "code",
   "execution_count": null,
   "id": "8beea599",
   "metadata": {},
   "outputs": [],
   "source": [
    "plt.figure(figsize=(15,6))\n",
    "x = dfMed['age']\n",
    "plt.hist(x, bins=100, color='purple', edgecolor='black', label='Average Across Med')\n",
    "plt.grid()\n",
    "    \n",
    "plt.title('Med Distribution Age')\n",
    "plt.legend()\n",
    "plt.show()"
   ]
  },
  {
   "cell_type": "markdown",
   "id": "da600f54",
   "metadata": {},
   "source": [
    "#9. Make some plots to visualize the time trend of the average age of winners in each specific category per decade. What do you find?"
   ]
  },
  {
   "cell_type": "code",
   "execution_count": null,
   "id": "bc50945a",
   "metadata": {},
   "outputs": [],
   "source": [
    "dfChem"
   ]
  },
  {
   "cell_type": "code",
   "execution_count": null,
   "id": "cf0e46a4",
   "metadata": {
    "scrolled": false
   },
   "outputs": [],
   "source": [
    "#'Chemistry'\n",
    "dfChemAvg = dfChem.groupby(['decades'])['age'].mean().reset_index()\n",
    "dfChemAvg\n",
    "\n",
    "#Plotting\n",
    "x = dfChemAvg['decades']\n",
    "y = dfChemAvg['age']\n",
    "plt.figure(figsize=(15,6))\n",
    "plt.plot(x,y, color='c')\n",
    "plt.grid()\n",
    "plt.title('Average Age through Decades- Chem')"
   ]
  },
  {
   "cell_type": "markdown",
   "id": "2096f3b2",
   "metadata": {},
   "source": [
    "#Analysis: \n",
    "\n",
    "            I found that from the Chem Category, the average age of Nobel Prize Winners are slowly risen. In 1900, the average age of normal Nobel prize's winner is around 52 years old. However, at 1960, it was around 56, 1970 approches 63, and increasing about 5 age range per decades till 2010 and 2020."
   ]
  },
  {
   "cell_type": "code",
   "execution_count": null,
   "id": "2e9ac096",
   "metadata": {},
   "outputs": [],
   "source": [
    "#'Economic Sciences', \n",
    "dfEcon['decades'] = (dfEcon['year']//10)*10\n",
    "dfEconAvg = dfEcon.groupby(['decades'])['age'].mean().reset_index()\n",
    "dfEconAvg\n",
    "\n",
    "#Plotting\n",
    "x = dfEconAvg['decades']\n",
    "y = dfEconAvg['age']\n",
    "plt.figure(figsize=(15,6))\n",
    "plt.plot(x,y, color='r')\n",
    "plt.grid()\n",
    "plt.title('Average Age through Decades- Econ')\n",
    "\n",
    "\n"
   ]
  },
  {
   "cell_type": "markdown",
   "id": "7724c508",
   "metadata": {},
   "source": [
    "#Analysis: \n",
    "\n",
    "            I found that from the Economics Category, the average of winning the nobel prize decays from 1960 to 1990, where I assume in this amount of time, a lot of new Economist with Nobel prize were born prior with earlier age. However, after the 1990 pivot, the average age of Economics Nobel Prize winners increased again from below age 66 to age 68."
   ]
  },
  {
   "cell_type": "code",
   "execution_count": null,
   "id": "c57ef9ed",
   "metadata": {},
   "outputs": [],
   "source": [
    "##Literature\n",
    "dfLiterature['decades'] = (dfLiterature['year']//10)*10\n",
    "dfLitAvg = dfLiterature.groupby(['decades'])['age'].mean().reset_index()\n",
    "dfLitAvg\n",
    "\n",
    "#Plotting\n",
    "x = dfLitAvg['decades']\n",
    "y = dfLitAvg['age']\n",
    "plt.figure(figsize=(15,6))\n",
    "plt.plot(x,y, color='brown')\n",
    "plt.grid()\n",
    "plt.title('Average Age through Decades- Literature')\n"
   ]
  },
  {
   "cell_type": "markdown",
   "id": "eb4de078",
   "metadata": {},
   "source": [
    "#Analysis: \n",
    "\n",
    "            I found that from the Literature Category have also been risen in average age as well, and I think that the main reason for people to obtain Nobel prize late is because of the amount of systematic change we had during these 12 decades. From 1900- 2020, our life and surroundings have changed dramatically, we have been shifting from the industrial revolution where people has mass amount of pressure and dissatisfaction from the society to a decade where people mostly used technologies and are be surrounded by type of environment that is recaptured by social media, fast foods, and consumer products. Thus, it requries us more time and effort to be able to practice and perform in literature."
   ]
  },
  {
   "cell_type": "code",
   "execution_count": null,
   "id": "9896b52d",
   "metadata": {},
   "outputs": [],
   "source": [
    "##Peace\n",
    "\n",
    "dfPeace['decades'] = (dfPeace['year']//10)*10\n",
    "dfPeaceAvg = dfPeace.groupby(['decades'])['age'].mean().reset_index()\n",
    "dfPeaceAvg\n",
    "\n",
    "\n",
    "#Plotting\n",
    "x = dfPeaceAvg['decades']\n",
    "y = dfPeaceAvg['age']\n",
    "plt.figure(figsize=(15,6))\n",
    "plt.plot(x,y, color='teal')\n",
    "plt.grid()\n",
    "plt.title('Average Age through Decades- Peace')\n"
   ]
  },
  {
   "cell_type": "markdown",
   "id": "1948d7aa",
   "metadata": {},
   "source": [
    "#Analysis: \n",
    "\n",
    "            I found that however, for the peace category, the average age has becoming a decay over the years. While from 1900 - 2910, the average age is about 64-67 years old, hitting a climax at 76 years old at 1940, however, after 1940, a serious of decrease occured. While, in 1980 the average age is about 56, and around 2010, the average age is long below 50. I believe that this is also important due to our shift of our political and social economical systems. While more people are getting affordable housing, pricing, and proper management. The level of civilization has increased, thus, people who works and contribute in peace industry are more willing to contribute due to enormous amount of funds flowing into the industry."
   ]
  },
  {
   "cell_type": "code",
   "execution_count": null,
   "id": "c88a3639",
   "metadata": {
    "scrolled": false
   },
   "outputs": [],
   "source": [
    "\n",
    "## Physics\n",
    "dfPhysics['decades'] = (dfPhysics['year']//10)*10\n",
    "dfPhyAvg = dfPhysics.groupby(['decades'])['age'].mean().reset_index()\n",
    "dfPhyAvg\n",
    "\n",
    "#Plotting\n",
    "x = dfPhyAvg['decades']\n",
    "y = dfPhyAvg['age']\n",
    "plt.figure(figsize=(15,6))\n",
    "plt.plot(x,y, color='gold')\n",
    "plt.grid()\n",
    "plt.title('Average Age through Decades- Physics')\n",
    "\n"
   ]
  },
  {
   "cell_type": "markdown",
   "id": "dffb089d",
   "metadata": {},
   "source": [
    "#Analysis: \n",
    "\n",
    "            I found that from the Physics category, the average amount of age of Nobel prize winners has been risen over an almost linear slope. This is strongly due to the difficulty level of coming up with new physics theories. While the most brand span physics theory are settled already based on Einstein and Newton, new discoveries and insights are being posted day to day. However, based on the improvement of technology and all different types of accessories inside the indsutry, the average age of Physics Nobel Prize winners has been largely delayed."
   ]
  },
  {
   "cell_type": "code",
   "execution_count": null,
   "id": "8e5014f2",
   "metadata": {},
   "outputs": [],
   "source": [
    "##Medicine\n",
    "\n",
    "dfMed['decades'] = (dfMed['year']//10)*10\n",
    "dfMedAvg = dfMed.groupby(['decades'])['age'].mean().reset_index()\n",
    "dfMedAvg\n",
    "\n",
    "#Plotting\n",
    "x = dfMedAvg['decades']\n",
    "y = dfMedAvg['age']\n",
    "plt.figure(figsize=(15,6))\n",
    "plt.plot(x,y, color='green')\n",
    "plt.grid()\n",
    "plt.title('Average Age through Decades- Med')\n"
   ]
  },
  {
   "cell_type": "markdown",
   "id": "21eb1bfc",
   "metadata": {},
   "source": [
    "#Analysis: \n",
    "\n",
    "            I found that the med industry has the similarity that share with a physics Nobel winner. We can see that as the time approaches more to the modern time, the average age of Med Nobel winner has been delayed from 56 - 67 by almost 10 years as well. Indeed, I believe the conclusion has came with the same as the physics industry, while modern medicine and physics are already based on a variety of settings and variety of pre-exisiting theories, thus, causing the increment to speed up."
   ]
  },
  {
   "cell_type": "code",
   "execution_count": null,
   "id": "53305058",
   "metadata": {},
   "outputs": [],
   "source": []
  },
  {
   "cell_type": "code",
   "execution_count": null,
   "id": "ad4630af",
   "metadata": {},
   "outputs": [],
   "source": []
  },
  {
   "cell_type": "code",
   "execution_count": null,
   "id": "a2106468",
   "metadata": {},
   "outputs": [],
   "source": []
  },
  {
   "cell_type": "markdown",
   "id": "f6ba6df9",
   "metadata": {},
   "source": [
    "#10. Repeat the analysis in question 9, but with lifespan instead of age. What do you find?"
   ]
  },
  {
   "cell_type": "code",
   "execution_count": null,
   "id": "f3430a65",
   "metadata": {},
   "outputs": [],
   "source": [
    "col = ['year','category','birth_date','death_date']\n",
    "dfls = df[col].dropna() \n",
    "dfls['decades'] = (dfls['year']// 10)* 10\n",
    "dfls['lifespan'] = (dfls['death_date'].str[0:4].astype(int)) - (dfls['birth_date'].str[0:4].astype(int))\n",
    "dfls\n"
   ]
  },
  {
   "cell_type": "code",
   "execution_count": null,
   "id": "75e13fd4",
   "metadata": {},
   "outputs": [],
   "source": [
    "dfLifespan = dfls.groupby(['category','decades'])['lifespan'].mean().reset_index()\n",
    "dfLifespan"
   ]
  },
  {
   "cell_type": "code",
   "execution_count": null,
   "id": "3d1a2534",
   "metadata": {},
   "outputs": [],
   "source": [
    "dfChemspan = dfLifespan[dfLifespan['category'] == 'Chemistry']\n",
    "dfChemspan"
   ]
  },
  {
   "cell_type": "code",
   "execution_count": null,
   "id": "b3a50417",
   "metadata": {},
   "outputs": [],
   "source": [
    "#Plotting \n",
    "x = dfChemspan['decades']\n",
    "y = dfChemspan['lifespan']\n",
    "plt.figure(figsize=(15,6))\n",
    "plt.grid()\n",
    "plt.plot(x, y, color='c', label='avg lifespan')\n",
    "plt.title('Average Lifespan in Chemistry')\n",
    "plt.legend()\n",
    "plt.show()"
   ]
  },
  {
   "cell_type": "markdown",
   "id": "a786214a",
   "metadata": {},
   "source": [
    "#Analysis: \n",
    "\n",
    "            We find that, except in the 1900s and 1910s, the average lifespan of chemistry prize winners is over 70 years, and the trend is increasing."
   ]
  },
  {
   "cell_type": "code",
   "execution_count": null,
   "id": "c5a2682f",
   "metadata": {
    "scrolled": true
   },
   "outputs": [],
   "source": [
    "dfEconspan = dfLifespan[dfLifespan['category'] == 'Economic Sciences']\n",
    "dfEconspan"
   ]
  },
  {
   "cell_type": "code",
   "execution_count": null,
   "id": "b6aa948d",
   "metadata": {},
   "outputs": [],
   "source": [
    "#Plotting \n",
    "x = dfEconspan['decades']\n",
    "y = dfEconspan['lifespan']\n",
    "plt.figure(figsize=(15,6))\n",
    "plt.grid()\n",
    "plt.plot(x, y, color='c', label='avg lifespan')\n",
    "plt.title('Average Lifespan in Econ')\n",
    "plt.legend()\n",
    "plt.show()"
   ]
  },
  {
   "cell_type": "markdown",
   "id": "10a6afe7",
   "metadata": {},
   "source": [
    "#Analysis: \n",
    "\n",
    "          The lifespan of the winners of the economic science prize is relatively large, reaching a peak of 87.11 years for the winners in the 1980s; it then fell back, and for the winners of the 2010s, their lifespan only reached 84 years old."
   ]
  },
  {
   "cell_type": "code",
   "execution_count": null,
   "id": "55f0d33e",
   "metadata": {},
   "outputs": [],
   "source": [
    "dfLitspan = dfLifespan[dfLifespan['category'] == 'Literature']\n",
    "dfLitspan "
   ]
  },
  {
   "cell_type": "code",
   "execution_count": null,
   "id": "9fccf8a8",
   "metadata": {},
   "outputs": [],
   "source": [
    "#Plotting \n",
    "x = dfLitspan['decades']\n",
    "y = dfLitspan['lifespan']\n",
    "plt.figure(figsize=(15,6))\n",
    "plt.grid()\n",
    "plt.plot(x, y, color='c', label='avg lifespan')\n",
    "plt.title('Average Lifespan in Lit')\n",
    "plt.legend()\n",
    "plt.show()"
   ]
  },
  {
   "cell_type": "markdown",
   "id": "d69b0db8",
   "metadata": {},
   "source": [
    "#Analysis: \n",
    "\n",
    "           The lifespan of a literary award winner fluctuates widely. The average lifespan of the winners in the 1930s was only 72.2 years old, and then rose all the way. The average lifespan of the winners after the 1980s was over 84 years old"
   ]
  },
  {
   "cell_type": "code",
   "execution_count": null,
   "id": "c681c020",
   "metadata": {},
   "outputs": [],
   "source": [
    "dfPeacespan = dfLifespan[dfLifespan['category'] == 'Peace']\n",
    "dfPeacespan"
   ]
  },
  {
   "cell_type": "code",
   "execution_count": null,
   "id": "129f1c8f",
   "metadata": {},
   "outputs": [],
   "source": [
    "#Plotting \n",
    "x = dfPeacespan['decades']\n",
    "y = dfPeacespan['lifespan']\n",
    "plt.figure(figsize=(15,6))\n",
    "plt.grid()\n",
    "plt.plot(x, y, color='c', label='avg lifespan')\n",
    "plt.title('Average Lifespan in Peace')\n",
    "plt.legend()\n",
    "plt.show()"
   ]
  },
  {
   "cell_type": "markdown",
   "id": "793b5a06",
   "metadata": {},
   "source": [
    "#Analysis: \n",
    "\n",
    "           The average lifespan of the Peace Prize winners varies greatly and is irregular. The maximum value appeared in the winners in the 1940s, which was 89.75 years old; the minimum value appeared in the winners in the 2010s, who were only 62 years old."
   ]
  },
  {
   "cell_type": "code",
   "execution_count": null,
   "id": "6466f43a",
   "metadata": {},
   "outputs": [],
   "source": [
    "dfPhysicspan = dfLifespan[dfLifespan['category'] == 'Physics']\n",
    "dfPhysicspan"
   ]
  },
  {
   "cell_type": "code",
   "execution_count": null,
   "id": "9f61bce7",
   "metadata": {},
   "outputs": [],
   "source": [
    "#Plotting \n",
    "x = dfPhysicspan['decades']\n",
    "y = dfPhysicspan['lifespan']\n",
    "plt.figure(figsize=(15,6))\n",
    "plt.grid()\n",
    "plt.plot(x, y, color='red', label='avg lifespan')\n",
    "plt.title('Average Lifespan in Physics')\n",
    "plt.legend()\n",
    "plt.show()"
   ]
  },
  {
   "cell_type": "markdown",
   "id": "86d01f8a",
   "metadata": {},
   "source": [
    "#Analysis: \n",
    "\n",
    "            The average lifespan in Physics was kind of weird since in 1920 it was 82, and in 1930 and 1940 there was only 76 years old. I believe that there was not so much info about the years in 1920, thus, the extreme value corrupted the current trend. However, we can see that from the rise of 1930-1960, the average lifespan had increased decades over decades from 76 yo to 80yo."
   ]
  },
  {
   "cell_type": "code",
   "execution_count": null,
   "id": "9d16216a",
   "metadata": {},
   "outputs": [],
   "source": [
    "dfMedspan = dfLifespan[dfLifespan['category'] == 'Physiology or Medicine']\n",
    "dfMedspan"
   ]
  },
  {
   "cell_type": "code",
   "execution_count": null,
   "id": "4ea32541",
   "metadata": {},
   "outputs": [],
   "source": [
    "#Plotting \n",
    "x = dfMedspan['decades']\n",
    "y = dfMedspan['lifespan']\n",
    "plt.figure(figsize=(15,6))\n",
    "plt.grid()\n",
    "plt.plot(x, y, color='green', label='avg lifespan')\n",
    "plt.title('Average Lifespan in Med')\n",
    "plt.legend()\n",
    "plt.show()"
   ]
  },
  {
   "cell_type": "markdown",
   "id": "c247ede9",
   "metadata": {},
   "source": [
    "#Analysis: \n",
    "\n",
    "            The average lifespan in Med was usually very high since medicine and physicts takes great care of their body, and the average has also been increase from 72 yo to 88 yo, despite a significant drop for the 2000s winners."
   ]
  },
  {
   "cell_type": "code",
   "execution_count": null,
   "id": "56ffe492",
   "metadata": {
    "scrolled": false
   },
   "outputs": [],
   "source": [
    "## Total Plotting\n",
    "plt.figure(figsize=(15,6))\n",
    "#Plotting \n",
    "xChem = dfChemspan['decades']\n",
    "yChem = dfChemspan['lifespan']\n",
    "plt.plot(xChem, yChem, color='purple', label='avg lifespan-chem')\n",
    "\n",
    "\n",
    "xEcon = dfEconspan['decades']\n",
    "yEcon = dfEconspan['lifespan']\n",
    "plt.plot(xEcon, yEcon, color='gold', label='avg lifespan-econ')\n",
    "\n",
    "xLit = dfLitspan['decades']\n",
    "yLit = dfLitspan['lifespan']\n",
    "plt.plot(xLit, yLit, color='brown', label='avg lifespan-peace')\n",
    "\n",
    "xPeace = dfPeacespan['decades']\n",
    "yPeace = dfPeacespan['lifespan']\n",
    "plt.plot(xPeace, yPeace, color='c', label='avg lifespan-peace')\n",
    "\n",
    "xPhysics = dfPhysicspan['decades']\n",
    "yPhysics = dfPhysicspan['lifespan']\n",
    "plt.plot(xPhysics, yPhysics, color='red', label='avg lifespan-physics')\n",
    "\n",
    "xMed = dfMedspan['decades']\n",
    "yMed = dfMedspan['lifespan']\n",
    "plt.plot(xMed, yMed, color='green', label='avg lifespan-med')\n",
    "\n",
    "plt.xticks(xChem)\n",
    "plt.ylim(0,100)\n",
    "plt.title('Average Lifespan in Med')\n",
    "plt.legend()\n",
    "plt.grid()\n",
    "plt.show()"
   ]
  },
  {
   "cell_type": "code",
   "execution_count": null,
   "id": "63542b27",
   "metadata": {},
   "outputs": [],
   "source": []
  }
 ],
 "metadata": {
  "kernelspec": {
   "display_name": "Python 3 (ipykernel)",
   "language": "python",
   "name": "python3"
  },
  "language_info": {
   "codemirror_mode": {
    "name": "ipython",
    "version": 3
   },
   "file_extension": ".py",
   "mimetype": "text/x-python",
   "name": "python",
   "nbconvert_exporter": "python",
   "pygments_lexer": "ipython3",
   "version": "3.9.13"
  }
 },
 "nbformat": 4,
 "nbformat_minor": 5
}
