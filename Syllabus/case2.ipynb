{
 "cells": [
  {
   "cell_type": "code",
   "execution_count": 1,
   "id": "832b6f5c",
   "metadata": {},
   "outputs": [],
   "source": [
    "import pandas as pd\n",
    "cv = nb = pd.read_csv('covid.csv')"
   ]
  },
  {
   "cell_type": "code",
   "execution_count": 2,
   "id": "14058db4",
   "metadata": {},
   "outputs": [
    {
     "data": {
      "text/html": [
       "<div>\n",
       "<style scoped>\n",
       "    .dataframe tbody tr th:only-of-type {\n",
       "        vertical-align: middle;\n",
       "    }\n",
       "\n",
       "    .dataframe tbody tr th {\n",
       "        vertical-align: top;\n",
       "    }\n",
       "\n",
       "    .dataframe thead th {\n",
       "        text-align: right;\n",
       "    }\n",
       "</style>\n",
       "<table border=\"1\" class=\"dataframe\">\n",
       "  <thead>\n",
       "    <tr style=\"text-align: right;\">\n",
       "      <th></th>\n",
       "      <th>Reported_Date</th>\n",
       "      <th>HA</th>\n",
       "      <th>Sex</th>\n",
       "      <th>Age_Group</th>\n",
       "      <th>Classification_Reported</th>\n",
       "    </tr>\n",
       "  </thead>\n",
       "  <tbody>\n",
       "    <tr>\n",
       "      <th>0</th>\n",
       "      <td>2020-01-26</td>\n",
       "      <td>Out of Canada</td>\n",
       "      <td>M</td>\n",
       "      <td>40-49</td>\n",
       "      <td>Lab-diagnosed</td>\n",
       "    </tr>\n",
       "    <tr>\n",
       "      <th>1</th>\n",
       "      <td>2020-02-02</td>\n",
       "      <td>Vancouver Coastal</td>\n",
       "      <td>F</td>\n",
       "      <td>50-59</td>\n",
       "      <td>Lab-diagnosed</td>\n",
       "    </tr>\n",
       "    <tr>\n",
       "      <th>2</th>\n",
       "      <td>2020-02-05</td>\n",
       "      <td>Out of Canada</td>\n",
       "      <td>F</td>\n",
       "      <td>20-29</td>\n",
       "      <td>Lab-diagnosed</td>\n",
       "    </tr>\n",
       "    <tr>\n",
       "      <th>3</th>\n",
       "      <td>2020-02-05</td>\n",
       "      <td>Out of Canada</td>\n",
       "      <td>M</td>\n",
       "      <td>30-39</td>\n",
       "      <td>Lab-diagnosed</td>\n",
       "    </tr>\n",
       "    <tr>\n",
       "      <th>4</th>\n",
       "      <td>2020-02-11</td>\n",
       "      <td>Interior</td>\n",
       "      <td>F</td>\n",
       "      <td>30-39</td>\n",
       "      <td>Lab-diagnosed</td>\n",
       "    </tr>\n",
       "    <tr>\n",
       "      <th>5</th>\n",
       "      <td>2020-02-20</td>\n",
       "      <td>Fraser</td>\n",
       "      <td>F</td>\n",
       "      <td>30-39</td>\n",
       "      <td>Lab-diagnosed</td>\n",
       "    </tr>\n",
       "    <tr>\n",
       "      <th>6</th>\n",
       "      <td>2020-02-21</td>\n",
       "      <td>Fraser</td>\n",
       "      <td>M</td>\n",
       "      <td>40-49</td>\n",
       "      <td>Lab-diagnosed</td>\n",
       "    </tr>\n",
       "    <tr>\n",
       "      <th>7</th>\n",
       "      <td>2020-02-27</td>\n",
       "      <td>Vancouver Coastal</td>\n",
       "      <td>F</td>\n",
       "      <td>60-69</td>\n",
       "      <td>Lab-diagnosed</td>\n",
       "    </tr>\n",
       "  </tbody>\n",
       "</table>\n",
       "</div>"
      ],
      "text/plain": [
       "  Reported_Date                 HA Sex Age_Group Classification_Reported\n",
       "0    2020-01-26      Out of Canada   M     40-49           Lab-diagnosed\n",
       "1    2020-02-02  Vancouver Coastal   F     50-59           Lab-diagnosed\n",
       "2    2020-02-05      Out of Canada   F     20-29           Lab-diagnosed\n",
       "3    2020-02-05      Out of Canada   M     30-39           Lab-diagnosed\n",
       "4    2020-02-11           Interior   F     30-39           Lab-diagnosed\n",
       "5    2020-02-20             Fraser   F     30-39           Lab-diagnosed\n",
       "6    2020-02-21             Fraser   M     40-49           Lab-diagnosed\n",
       "7    2020-02-27  Vancouver Coastal   F     60-69           Lab-diagnosed"
      ]
     },
     "execution_count": 2,
     "metadata": {},
     "output_type": "execute_result"
    }
   ],
   "source": [
    "cv.head(8)"
   ]
  },
  {
   "cell_type": "code",
   "execution_count": 3,
   "id": "d904816d",
   "metadata": {},
   "outputs": [
    {
     "data": {
      "text/plain": [
       "(12554, 5)"
      ]
     },
     "execution_count": 3,
     "metadata": {},
     "output_type": "execute_result"
    }
   ],
   "source": [
    "cv.shape"
   ]
  },
  {
   "cell_type": "code",
   "execution_count": 4,
   "id": "17df577c",
   "metadata": {},
   "outputs": [
    {
     "data": {
      "text/plain": [
       "Index(['Reported_Date', 'HA', 'Sex', 'Age_Group', 'Classification_Reported'], dtype='object')"
      ]
     },
     "execution_count": 4,
     "metadata": {},
     "output_type": "execute_result"
    }
   ],
   "source": [
    "cv.columns"
   ]
  },
  {
   "cell_type": "code",
   "execution_count": 5,
   "id": "ceff4fd6",
   "metadata": {},
   "outputs": [],
   "source": [
    "cv['Reported_Date'] = pd.to_datetime(cv['Reported_Date'])"
   ]
  },
  {
   "cell_type": "code",
   "execution_count": 6,
   "id": "e4d841c7",
   "metadata": {},
   "outputs": [
    {
     "data": {
      "text/html": [
       "<div>\n",
       "<style scoped>\n",
       "    .dataframe tbody tr th:only-of-type {\n",
       "        vertical-align: middle;\n",
       "    }\n",
       "\n",
       "    .dataframe tbody tr th {\n",
       "        vertical-align: top;\n",
       "    }\n",
       "\n",
       "    .dataframe thead th {\n",
       "        text-align: right;\n",
       "    }\n",
       "</style>\n",
       "<table border=\"1\" class=\"dataframe\">\n",
       "  <thead>\n",
       "    <tr style=\"text-align: right;\">\n",
       "      <th></th>\n",
       "      <th>Reported_Date</th>\n",
       "      <th>HA</th>\n",
       "      <th>Sex</th>\n",
       "      <th>Age_Group</th>\n",
       "      <th>Classification_Reported</th>\n",
       "      <th>month</th>\n",
       "    </tr>\n",
       "  </thead>\n",
       "  <tbody>\n",
       "    <tr>\n",
       "      <th>0</th>\n",
       "      <td>2020-01-26</td>\n",
       "      <td>Out of Canada</td>\n",
       "      <td>M</td>\n",
       "      <td>40-49</td>\n",
       "      <td>Lab-diagnosed</td>\n",
       "      <td>1</td>\n",
       "    </tr>\n",
       "    <tr>\n",
       "      <th>1</th>\n",
       "      <td>2020-02-02</td>\n",
       "      <td>Vancouver Coastal</td>\n",
       "      <td>F</td>\n",
       "      <td>50-59</td>\n",
       "      <td>Lab-diagnosed</td>\n",
       "      <td>2</td>\n",
       "    </tr>\n",
       "    <tr>\n",
       "      <th>2</th>\n",
       "      <td>2020-02-05</td>\n",
       "      <td>Out of Canada</td>\n",
       "      <td>F</td>\n",
       "      <td>20-29</td>\n",
       "      <td>Lab-diagnosed</td>\n",
       "      <td>2</td>\n",
       "    </tr>\n",
       "    <tr>\n",
       "      <th>3</th>\n",
       "      <td>2020-02-05</td>\n",
       "      <td>Out of Canada</td>\n",
       "      <td>M</td>\n",
       "      <td>30-39</td>\n",
       "      <td>Lab-diagnosed</td>\n",
       "      <td>2</td>\n",
       "    </tr>\n",
       "    <tr>\n",
       "      <th>4</th>\n",
       "      <td>2020-02-11</td>\n",
       "      <td>Interior</td>\n",
       "      <td>F</td>\n",
       "      <td>30-39</td>\n",
       "      <td>Lab-diagnosed</td>\n",
       "      <td>2</td>\n",
       "    </tr>\n",
       "    <tr>\n",
       "      <th>5</th>\n",
       "      <td>2020-02-20</td>\n",
       "      <td>Fraser</td>\n",
       "      <td>F</td>\n",
       "      <td>30-39</td>\n",
       "      <td>Lab-diagnosed</td>\n",
       "      <td>2</td>\n",
       "    </tr>\n",
       "    <tr>\n",
       "      <th>6</th>\n",
       "      <td>2020-02-21</td>\n",
       "      <td>Fraser</td>\n",
       "      <td>M</td>\n",
       "      <td>40-49</td>\n",
       "      <td>Lab-diagnosed</td>\n",
       "      <td>2</td>\n",
       "    </tr>\n",
       "    <tr>\n",
       "      <th>7</th>\n",
       "      <td>2020-02-27</td>\n",
       "      <td>Vancouver Coastal</td>\n",
       "      <td>F</td>\n",
       "      <td>60-69</td>\n",
       "      <td>Lab-diagnosed</td>\n",
       "      <td>2</td>\n",
       "    </tr>\n",
       "  </tbody>\n",
       "</table>\n",
       "</div>"
      ],
      "text/plain": [
       "  Reported_Date                 HA Sex Age_Group Classification_Reported  \\\n",
       "0    2020-01-26      Out of Canada   M     40-49           Lab-diagnosed   \n",
       "1    2020-02-02  Vancouver Coastal   F     50-59           Lab-diagnosed   \n",
       "2    2020-02-05      Out of Canada   F     20-29           Lab-diagnosed   \n",
       "3    2020-02-05      Out of Canada   M     30-39           Lab-diagnosed   \n",
       "4    2020-02-11           Interior   F     30-39           Lab-diagnosed   \n",
       "5    2020-02-20             Fraser   F     30-39           Lab-diagnosed   \n",
       "6    2020-02-21             Fraser   M     40-49           Lab-diagnosed   \n",
       "7    2020-02-27  Vancouver Coastal   F     60-69           Lab-diagnosed   \n",
       "\n",
       "   month  \n",
       "0      1  \n",
       "1      2  \n",
       "2      2  \n",
       "3      2  \n",
       "4      2  \n",
       "5      2  \n",
       "6      2  \n",
       "7      2  "
      ]
     },
     "execution_count": 6,
     "metadata": {},
     "output_type": "execute_result"
    }
   ],
   "source": [
    "cv['month']= cv['Reported_Date'].dt.month\n",
    "cv.head(8)"
   ]
  },
  {
   "cell_type": "code",
   "execution_count": 7,
   "id": "d1da72d6",
   "metadata": {},
   "outputs": [
    {
     "data": {
      "text/plain": [
       "{1: 1,\n",
       " 2: 8,\n",
       " 3: 1049,\n",
       " 4: 1088,\n",
       " 5: 447,\n",
       " 6: 337,\n",
       " 7: 760,\n",
       " 8: 2180,\n",
       " 9: 3392,\n",
       " 10: 3292}"
      ]
     },
     "execution_count": 7,
     "metadata": {},
     "output_type": "execute_result"
    }
   ],
   "source": [
    "monthcase = cv.groupby('month')['HA'].count()\n",
    "monthdict = dict(monthcase)\n",
    "monthdict"
   ]
  },
  {
   "cell_type": "code",
   "execution_count": 8,
   "id": "7726efb5",
   "metadata": {},
   "outputs": [
    {
     "data": {
      "text/plain": [
       "3392"
      ]
     },
     "execution_count": 8,
     "metadata": {},
     "output_type": "execute_result"
    }
   ],
   "source": [
    "max(monthdict.values())"
   ]
  },
  {
   "cell_type": "code",
   "execution_count": 9,
   "id": "f2666f2a",
   "metadata": {},
   "outputs": [],
   "source": [
    "import matplotlib.pyplot as plt"
   ]
  },
  {
   "cell_type": "code",
   "execution_count": 10,
   "id": "4547424b",
   "metadata": {},
   "outputs": [
    {
     "data": {
      "text/plain": [
       "[<matplotlib.lines.Line2D at 0x21b0f7cf760>]"
      ]
     },
     "execution_count": 10,
     "metadata": {},
     "output_type": "execute_result"
    },
    {
     "data": {
      "image/png": "[encoded data removed]",
      "text/plain": [
       "<Figure size 640x480 with 1 Axes>"
      ]
     },
     "metadata": {},
     "output_type": "display_data"
    }
   ],
   "source": [
    "plt.plot(monthcase)"
   ]
  },
  {
   "cell_type": "code",
   "execution_count": 11,
   "id": "2ea72795",
   "metadata": {},
   "outputs": [
    {
     "data": {
      "text/plain": [
       "month  Sex\n",
       "1      M         1\n",
       "2      F         6\n",
       "       M         2\n",
       "3      F       570\n",
       "       M       479\n",
       "4      F       538\n",
       "       M       549\n",
       "       U         1\n",
       "5      F       227\n",
       "       M       218\n",
       "       U         2\n",
       "6      F       167\n",
       "       M       168\n",
       "       U         2\n",
       "7      F       387\n",
       "       M       364\n",
       "       U         9\n",
       "8      F      1013\n",
       "       M      1161\n",
       "       U         6\n",
       "9      F      1668\n",
       "       M      1705\n",
       "       U        19\n",
       "10     F      1629\n",
       "       M      1635\n",
       "       U        28\n",
       "Name: HA, dtype: int64"
      ]
     },
     "execution_count": 11,
     "metadata": {},
     "output_type": "execute_result"
    }
   ],
   "source": [
    "cv.groupby(['month','Sex'])['HA'].count()"
   ]
  },
  {
   "cell_type": "code",
   "execution_count": 12,
   "id": "db50b294",
   "metadata": {},
   "outputs": [],
   "source": [
    "f = cv[cv['Sex'] == 'F']\n",
    "m = cv[cv['Sex'] == 'M']"
   ]
  },
  {
   "cell_type": "code",
   "execution_count": 13,
   "id": "12ac389f",
   "metadata": {},
   "outputs": [],
   "source": [
    "fmonth = f.groupby('month')['HA'].count()\n",
    "mmonth = m.groupby('month')['HA'].count()"
   ]
  },
  {
   "cell_type": "code",
   "execution_count": 14,
   "id": "d114392d",
   "metadata": {},
   "outputs": [
    {
     "data": {
      "text/plain": [
       "<matplotlib.legend.Legend at 0x21b0f821a00>"
      ]
     },
     "execution_count": 14,
     "metadata": {},
     "output_type": "execute_result"
    },
    {
     "data": {
      "image/png": "[encoded data removed]",
      "text/plain": [
       "<Figure size 640x480 with 1 Axes>"
      ]
     },
     "metadata": {},
     "output_type": "display_data"
    }
   ],
   "source": [
    "plt.plot(fmonth,label = 'Female')\n",
    "plt.plot(mmonth,label = 'Male')\n",
    "plt.legend()"
   ]
  },
  {
   "cell_type": "code",
   "execution_count": 15,
   "id": "a8228492",
   "metadata": {},
   "outputs": [],
   "source": [
    "dictf = dict(fmonth)\n",
    "dictm = dict(mmonth)"
   ]
  },
  {
   "cell_type": "code",
   "execution_count": 16,
   "id": "708e6426",
   "metadata": {},
   "outputs": [
    {
     "data": {
      "text/plain": [
       "{2: 6, 3: 570, 4: 538, 5: 227, 6: 167, 7: 387, 8: 1013, 9: 1668, 10: 1629}"
      ]
     },
     "execution_count": 16,
     "metadata": {},
     "output_type": "execute_result"
    }
   ],
   "source": [
    "dictf"
   ]
  },
  {
   "cell_type": "code",
   "execution_count": 17,
   "id": "debbbca2",
   "metadata": {},
   "outputs": [
    {
     "data": {
      "text/plain": [
       "{1: 1,\n",
       " 2: 2,\n",
       " 3: 479,\n",
       " 4: 549,\n",
       " 5: 218,\n",
       " 6: 168,\n",
       " 7: 364,\n",
       " 8: 1161,\n",
       " 9: 1705,\n",
       " 10: 1635}"
      ]
     },
     "execution_count": 17,
     "metadata": {},
     "output_type": "execute_result"
    }
   ],
   "source": [
    "dictm"
   ]
  },
  {
   "cell_type": "code",
   "execution_count": 18,
   "id": "ddb12a4c",
   "metadata": {},
   "outputs": [
    {
     "data": {
      "text/plain": [
       "2"
      ]
     },
     "execution_count": 18,
     "metadata": {},
     "output_type": "execute_result"
    }
   ],
   "source": [
    "min(dictf, key=dictf.get)"
   ]
  },
  {
   "cell_type": "code",
   "execution_count": null,
   "id": "4ade6ebc",
   "metadata": {},
   "outputs": [],
   "source": []
  },
  {
   "cell_type": "code",
   "execution_count": null,
   "id": "83ce9d23",
   "metadata": {},
   "outputs": [],
   "source": []
  },
  {
   "cell_type": "code",
   "execution_count": null,
   "id": "e98a7ed2",
   "metadata": {},
   "outputs": [],
   "source": []
  },
  {
   "cell_type": "code",
   "execution_count": 19,
   "id": "1274ff56",
   "metadata": {},
   "outputs": [
    {
     "data": {
      "text/plain": [
       "month  HA               \n",
       "1      Out of Canada           1\n",
       "2      Fraser                  2\n",
       "       Interior                1\n",
       "       Out of Canada           2\n",
       "       Vancouver Coastal       3\n",
       "3      Fraser                350\n",
       "       Interior              108\n",
       "       Northern               16\n",
       "       Out of Canada           9\n",
       "       Vancouver Coastal     495\n",
       "       Vancouver Island       71\n",
       "4      Fraser                617\n",
       "       Interior               66\n",
       "       Northern               33\n",
       "       Out of Canada           5\n",
       "       Vancouver Coastal     315\n",
       "       Vancouver Island       52\n",
       "5      Fraser                329\n",
       "       Interior               17\n",
       "       Northern               15\n",
       "       Out of Canada          10\n",
       "       Vancouver Coastal      69\n",
       "       Vancouver Island        7\n",
       "6      Fraser                242\n",
       "       Interior                6\n",
       "       Northern                1\n",
       "       Out of Canada          17\n",
       "       Vancouver Coastal      68\n",
       "       Vancouver Island        3\n",
       "7      Fraser                374\n",
       "       Interior              179\n",
       "       Northern               23\n",
       "       Out of Canada          18\n",
       "       Vancouver Coastal     155\n",
       "       Vancouver Island       11\n",
       "8      Fraser               1154\n",
       "       Interior               70\n",
       "       Northern               73\n",
       "       Out of Canada          17\n",
       "       Vancouver Coastal     835\n",
       "       Vancouver Island       31\n",
       "9      Fraser               1642\n",
       "       Interior               93\n",
       "       Northern              151\n",
       "       Out of Canada           7\n",
       "       Vancouver Coastal    1465\n",
       "       Vancouver Island       34\n",
       "10     Fraser               2154\n",
       "       Interior              122\n",
       "       Northern               59\n",
       "       Out of Canada           2\n",
       "       Vancouver Coastal     914\n",
       "       Vancouver Island       41\n",
       "Name: HA, dtype: int64"
      ]
     },
     "execution_count": 19,
     "metadata": {},
     "output_type": "execute_result"
    }
   ],
   "source": [
    "cv.groupby(['month','HA'])['HA'].count()"
   ]
  },
  {
   "cell_type": "code",
   "execution_count": 20,
   "id": "08e11a4a",
   "metadata": {},
   "outputs": [],
   "source": [
    "Fraser = cv[cv['HA'] == 'Fraser']\n",
    "Interior = cv[cv['HA'] == 'Interior']\n",
    "Northern = cv[cv['HA'] == 'Northern']\n",
    "OC= cv[cv['HA'] == 'Out of Canada']\n",
    "VC= cv[cv['HA'] == 'Vancouver Coastal']\n",
    "VI= cv[cv['HA'] == 'Vancouver Island ']"
   ]
  },
  {
   "cell_type": "code",
   "execution_count": 30,
   "id": "ff415ed6",
   "metadata": {},
   "outputs": [
    {
     "data": {
      "text/plain": [
       "month\n",
       "2       2\n",
       "3     350\n",
       "4     617\n",
       "5     329\n",
       "6     242\n",
       "7     374\n",
       "8    1154\n",
       "9    1642\n",
       "Name: HA, dtype: int64"
      ]
     },
     "execution_count": 30,
     "metadata": {},
     "output_type": "execute_result"
    }
   ],
   "source": [
    "Fmonth = Fraser.groupby('month')['HA'].count()\n",
    "\n",
    "Imonth = Interior.groupby('month')['HA'].count()\n",
    "\n",
    "Nmonth = Northern.groupby('month')['HA'].count()\n",
    "\n",
    "OCmonth = OC.groupby('month')['HA'].count()\n",
    "\n",
    "VCmonth = VC.groupby('month')['HA'].count()\n",
    "\n",
    "VImonth = VI.groupby('month')['HA'].count()\n",
    "\n"
   ]
  },
  {
   "cell_type": "code",
   "execution_count": 22,
   "id": "e5f179af",
   "metadata": {},
   "outputs": [
    {
     "data": {
      "text/plain": [
       "<matplotlib.legend.Legend at 0x21b0f8c42b0>"
      ]
     },
     "execution_count": 22,
     "metadata": {},
     "output_type": "execute_result"
    },
    {
     "data": {
      "image/png": "[encoded data removed]",
      "text/plain": [
       "<Figure size 640x480 with 1 Axes>"
      ]
     },
     "metadata": {},
     "output_type": "display_data"
    }
   ],
   "source": [
    "plt.plot(Fmonth,label = 'Fraser')\n",
    "plt.plot(Imonth,label = 'Interior')\n",
    "plt.plot(Nmonth,label = 'Northern')\n",
    "plt.plot(OCmonth,label = 'Out of Canada')\n",
    "plt.plot(VCmonth,label = 'Vancouver Coastal')\n",
    "plt.plot(VImonth,label = 'Vancouver Island')\n",
    "plt.legend()"
   ]
  },
  {
   "cell_type": "code",
   "execution_count": 28,
   "id": "e4d6e276",
   "metadata": {},
   "outputs": [],
   "source": [
    "Fmonth = Fraser.groupby('month')['HA'].count().reset_index()\n",
    "Fmonth['cumcase'] = Fmonth['HA'].cumsum()\n",
    "\n",
    "Imonth = Interior.groupby('month')['HA'].count().reset_index()\n",
    "Imonth['cumcase'] = Imonth['HA'].cumsum()\n",
    "\n",
    "Nmonth = Northern.groupby('month')['HA'].count().reset_index()\n",
    "Nmonth['cumcase'] = Nmonth['HA'].cumsum()\n",
    "\n",
    "OCmonth = OC.groupby('month')['HA'].count().reset_index()\n",
    "OCmonth['cumcase'] = OCmonth['HA'].cumsum()\n",
    "\n",
    "VCmonth = VC.groupby('month')['HA'].count().reset_index()\n",
    "VCmonth['cumcase'] = VCmonth['HA'].cumsum()\n",
    "\n",
    "VImonth = VI.groupby('month')['HA'].count().reset_index()\n",
    "VImonth['cumcase'] = VImonth['HA'].cumsum()"
   ]
  },
  {
   "cell_type": "code",
   "execution_count": 29,
   "id": "7e54d56f",
   "metadata": {},
   "outputs": [
    {
     "data": {
      "text/plain": [
       "<matplotlib.legend.Legend at 0x21b10a9d9d0>"
      ]
     },
     "execution_count": 29,
     "metadata": {},
     "output_type": "execute_result"
    },
    {
     "data": {
      "image/png": "[encoded data removed]",
      "text/plain": [
       "<Figure size 640x480 with 1 Axes>"
      ]
     },
     "metadata": {},
     "output_type": "display_data"
    }
   ],
   "source": [
    "plt.plot(Fmonth['cumcase'],label = 'Fraser')\n",
    "plt.plot(Imonth['cumcase'],label = 'Interior')\n",
    "plt.plot(Nmonth['cumcase'],label = 'Northern')\n",
    "plt.plot(OCmonth['cumcase'],label = 'Out of Canada')\n",
    "plt.plot(VCmonth['cumcase'],label = 'Vancouver Coastal')\n",
    "plt.plot(VImonth['cumcase'],label = 'Vancouver Island')\n",
    "plt.legend()"
   ]
  },
  {
   "cell_type": "code",
   "execution_count": 42,
   "id": "5290debb",
   "metadata": {},
   "outputs": [
    {
     "data": {
      "text/html": [
       "<div>\n",
       "<style scoped>\n",
       "    .dataframe tbody tr th:only-of-type {\n",
       "        vertical-align: middle;\n",
       "    }\n",
       "\n",
       "    .dataframe tbody tr th {\n",
       "        vertical-align: top;\n",
       "    }\n",
       "\n",
       "    .dataframe thead th {\n",
       "        text-align: right;\n",
       "    }\n",
       "</style>\n",
       "<table border=\"1\" class=\"dataframe\">\n",
       "  <thead>\n",
       "    <tr style=\"text-align: right;\">\n",
       "      <th></th>\n",
       "      <th>HA</th>\n",
       "      <th>month</th>\n",
       "      <th>Accumulative_cases</th>\n",
       "    </tr>\n",
       "  </thead>\n",
       "  <tbody>\n",
       "    <tr>\n",
       "      <th>0</th>\n",
       "      <td>Fraser</td>\n",
       "      <td>2</td>\n",
       "      <td>2</td>\n",
       "    </tr>\n",
       "    <tr>\n",
       "      <th>1</th>\n",
       "      <td>Fraser</td>\n",
       "      <td>3</td>\n",
       "      <td>352</td>\n",
       "    </tr>\n",
       "    <tr>\n",
       "      <th>2</th>\n",
       "      <td>Fraser</td>\n",
       "      <td>4</td>\n",
       "      <td>969</td>\n",
       "    </tr>\n",
       "    <tr>\n",
       "      <th>3</th>\n",
       "      <td>Fraser</td>\n",
       "      <td>5</td>\n",
       "      <td>1298</td>\n",
       "    </tr>\n",
       "    <tr>\n",
       "      <th>4</th>\n",
       "      <td>Fraser</td>\n",
       "      <td>6</td>\n",
       "      <td>1540</td>\n",
       "    </tr>\n",
       "    <tr>\n",
       "      <th>5</th>\n",
       "      <td>Fraser</td>\n",
       "      <td>7</td>\n",
       "      <td>1914</td>\n",
       "    </tr>\n",
       "    <tr>\n",
       "      <th>6</th>\n",
       "      <td>Fraser</td>\n",
       "      <td>8</td>\n",
       "      <td>3068</td>\n",
       "    </tr>\n",
       "    <tr>\n",
       "      <th>7</th>\n",
       "      <td>Fraser</td>\n",
       "      <td>9</td>\n",
       "      <td>4710</td>\n",
       "    </tr>\n",
       "  </tbody>\n",
       "</table>\n",
       "</div>"
      ],
      "text/plain": [
       "       HA  month  Accumulative_cases\n",
       "0  Fraser      2                   2\n",
       "1  Fraser      3                 352\n",
       "2  Fraser      4                 969\n",
       "3  Fraser      5                1298\n",
       "4  Fraser      6                1540\n",
       "5  Fraser      7                1914\n",
       "6  Fraser      8                3068\n",
       "7  Fraser      9                4710"
      ]
     },
     "execution_count": 42,
     "metadata": {},
     "output_type": "execute_result"
    }
   ],
   "source": [
    "cum = cv.groupby(['HA','month'])['Age_Group'].count().cumsum().reset_index()\n",
    "cum.rename(columns = {'Age_Group':'Accumulative_cases'}, inplace = True)\n",
    "cum.head(8)"
   ]
  },
  {
   "cell_type": "code",
   "execution_count": null,
   "id": "20da55f2",
   "metadata": {},
   "outputs": [],
   "source": []
  }
 ],
 "metadata": {
  "kernelspec": {
   "display_name": "Python 3 (ipykernel)",
   "language": "python",
   "name": "python3"
  },
  "language_info": {
   "codemirror_mode": {
    "name": "ipython",
    "version": 3
   },
   "file_extension": ".py",
   "mimetype": "text/x-python",
   "name": "python",
   "nbconvert_exporter": "python",
   "pygments_lexer": "ipython3",
   "version": "3.9.13"
  }
 },
 "nbformat": 4,
 "nbformat_minor": 5
}
